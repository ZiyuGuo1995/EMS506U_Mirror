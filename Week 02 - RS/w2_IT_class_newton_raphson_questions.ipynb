{
 "cells": [
  {
   "cell_type": "markdown",
   "metadata": {},
   "source": [
    "# Week 2 - IT Class Questions - Newton Raphson Method"
   ]
  },
  {
   "cell_type": "markdown",
   "metadata": {},
   "source": [
    "## Question 1"
   ]
  },
  {
   "cell_type": "markdown",
   "metadata": {},
   "source": [
    "Write a function $nthRoot(x, n, x_0, tol)$, where $x, x_0$ and $tol$ are strictly positive scalars and $n$ is an integer strictly greater than $1$. The output argument $r$ should be an approximation $r =  \\sqrt[n]{x}$, the $n$th root of $x$. This approximation should be computed using the Newton Raphson method to find the root of the function $f(y) = y^n - x$ with the help of an initial guess $x_0$. The error metric should be $|f(y)|$. "
   ]
  },
  {
   "cell_type": "markdown",
   "metadata": {},
   "source": [
    "### Test cases:\n",
    "\n",
    "Input: $x = 2, n = 6, x_0 = 1.5, tol = 10^{-3}$\n",
    "\n",
    "Output: $1.122508714183985$    \n",
    "\n",
    "(the exact answer for $\\sqrt[6]{2} = 1.122462048309373$)\n",
    "\n",
    "$\\newline$\n",
    "\n",
    "Input: $x = 9, n = 4, x_0 = 1.7, tol = 10^{-4}$\n",
    "\n",
    "Output: $1.73205546372756$\n",
    "\n",
    "(the exact answer for $\\sqrt[4]{9} = 1.7320508075688772$)\n"
   ]
  },
  {
   "cell_type": "markdown",
   "metadata": {},
   "source": [
    "## Answers\n",
    "First we recall the Netwon-Raphson method. This method provides an improved approximation $x_{n+1}$ for the root of a given function $f(x)$ using the following iterative formula: \n",
    "\n",
    "$$x_{n+1} = x_n - \\frac{f(x_n)}{f'(x_n)},$$\n",
    "\n",
    "where $f'$ denotes the first derivative of the function $f$ and $x_0$ is a chosen initial guess estimate for the root. Starting with $x_0$, the iterative procedure continues to find improved estimates $x_1, x_2, ...$, until the error metric $|f(x)|$ is less than a suitably selected tolerance. "
   ]
  },
  {
   "cell_type": "code",
   "execution_count": 1,
   "metadata": {},
   "outputs": [],
   "source": [
    "# Please filling the following code lines\n",
    "def nthRoot(x,n,x0,tol):\n",
    "    \"\"\"\n",
    "    Find the nthRoot using newton Raphson method loop implementation\n",
    "    \n",
    "    Parameters\n",
    "    ----------\n",
    "    x : float\n",
    "        The value of root will find.\n",
    "    n : float\n",
    "        nth root.\n",
    "    x0 : float\n",
    "        Initial guess of x.\n",
    "    tol : float\n",
    "        Tolerance of the error.\n",
    "    \n",
    "    Returns\n",
    "    -------\n",
    "    x0 : float\n",
    "        nth root of x\n",
    "\n",
    "    \"\"\"\n",
    "    \n",
    "    ## First define function to find root first (f(t)=t^n-x), the root of f(t) will be the nth root of x.\n",
    "    ## Then, using the Newton-Raphson method to find this root.\n",
    "    ## Your Code here##\n",
    "    \n",
    "    \n",
    "    \n",
    "    \n",
    "    \n",
    "    \n",
    "    \n",
    "    \n",
    "    \n",
    "    return x0\n",
    "\n",
    "\n",
    "#Test case1\n",
    "x1=nthRoot(2,6,1.5,0.001)\n",
    "print(f'(Loop implementation) The {6}th root of {2} is {x1}')\n",
    "x1=nthRoot(2,6,1.5,0.001)\n",
    "print(f'(Recursive implementation) The {6}th root of {2} is {x1}')\n"
   ]
  },
  {
   "cell_type": "markdown",
   "metadata": {},
   "source": [
    "## Question 2 "
   ]
  },
  {
   "cell_type": "markdown",
   "metadata": {},
   "source": [
    "Write a function $myNewton(f, df, x_0, tol)$ that returns $[R, E]$, where $f$ is a function object, $df$ is a function object giving the derivative of $f$, $x_0$ is an initial estimation of the root and $tol$ is a strictly positive scalar. The function should return an array $R$ where $R[i]$ is the Newton Raphson estimate of the root of $f$ for the $i$th iteration. Remember to include the initial estimate. \n",
    "\n",
    "The function should also return an array $E$, where $E[i]$ is the value of $|f(R[i])$ for the $i$th iteration of the Newton Raphson method. The function should terminate when $E(i) < tol$. Assume that the derivative $f$ will not hit zero during any iteration for any of the test cases given below. "
   ]
  },
  {
   "cell_type": "markdown",
   "metadata": {},
   "source": [
    "### Test cases:\n",
    "\n",
    "Input: $f = x^2 - 2$, $df = 2x$, $x_0 = 1$ and $tol = 1e-5$\n",
    "\n",
    "Output: \n",
    "\n",
    "$R = [1, 1.5, 1.4166666666666667, 1.4142156862745099]$\n",
    "\n",
    "$E = [1, 0.25, 0.006944444444444642, 6.007304882871267e-06]$\n",
    "\n",
    "\n",
    "$\\newline$\n",
    "\n",
    "Input: $f = sin(x) - cos(x)$, $df = cos(x) + sin(x)$, $x_0 = 1$ and $tol = 1e-5$\n",
    "\n",
    "Output: \n",
    "\n",
    "$R = [1, 0.782041901539138, 0.7853981759997019]$\n",
    "\n",
    "$E = [0.30116867893975674, 0.004746462127804163, 1.7822277875723103e-08]$\n"
   ]
  },
  {
   "cell_type": "markdown",
   "metadata": {},
   "source": [
    "## Answer"
   ]
  },
  {
   "cell_type": "code",
   "execution_count": 2,
   "metadata": {},
   "outputs": [],
   "source": [
    "def myNewton(f,df,x0,tol):\n",
    "    \"\"\"\n",
    "    Find the root of function f using newton Raphson method\n",
    "    \n",
    "    Parameters\n",
    "    ----------\n",
    "    f : function\n",
    "        The function whose root need to be found. f(x)=0\n",
    "    df : function\n",
    "        derivative of f.\n",
    "    x0 : float\n",
    "        Initial guess of x.\n",
    "    tol : float\n",
    "        Tolerance of the error.\n",
    "    \n",
    "    Returns\n",
    "    -------\n",
    "    R : list\n",
    "        Root of f in different iterations\n",
    "    E : list\n",
    "        Error of root in different iterations\n",
    "\n",
    "    \"\"\"\n",
    "    #### Your code here ###\n",
    "    \n",
    "    \n",
    "    \n",
    "    \n",
    "    \n",
    "    \n",
    "\n",
    "\n",
    "\n",
    "\n",
    "\n",
    "#test case1\n",
    "f=lambda x: x**2-2\n",
    "df=lambda x: 2*x\n",
    "R,E=myNewton(f,df,1,0.00001)\n",
    "print(R)\n",
    "print(E)\n",
    "\n",
    "#test case2\n",
    "import math\n",
    "f=lambda x: math.sin(x)-math.cos(x)\n",
    "df=lambda x: math.cos(x)+math.sin(x)\n",
    "R,E=myNewton(f,df,1,0.00001)\n",
    "print(R)\n",
    "print(E)"
   ]
  }
 ],
 "metadata": {
  "kernelspec": {
   "display_name": "Python 3 (ipykernel)",
   "language": "python",
   "name": "python3"
  },
  "language_info": {
   "codemirror_mode": {
    "name": "ipython",
    "version": 3
   },
   "file_extension": ".py",
   "mimetype": "text/x-python",
   "name": "python",
   "nbconvert_exporter": "python",
   "pygments_lexer": "ipython3",
   "version": "3.9.15"
  },
  "vscode": {
   "interpreter": {
    "hash": "5bfe32e0f0c93da9965ef7756aa570ea1104b23369657c3801cca8206d29810a"
   }
  }
 },
 "nbformat": 4,
 "nbformat_minor": 4
}
