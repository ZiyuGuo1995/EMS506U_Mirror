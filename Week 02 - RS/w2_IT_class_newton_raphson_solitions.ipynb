{
 "cells": [
  {
   "cell_type": "markdown",
   "metadata": {},
   "source": [
    "# Week 2 - IT Class Solutions - Newton Raphson Method"
   ]
  },
  {
   "cell_type": "markdown",
   "metadata": {},
   "source": [
    "## Question 1"
   ]
  },
  {
   "cell_type": "markdown",
   "metadata": {},
   "source": [
    "Write a function $nthRoot(x, n, x_0, tol)$, where $x, x_0$ and $tol$ are strictly positive scalars and $n$ is an integer strictly greater than $1$. The output argument $r$ should be an approximation $r =  \\sqrt[n]{x}$, the $n$th root of $x$. This approximation should be computed using the Newton Raphson method to find the root of the function $f(y) = y^n - x$ with the help of an initial guess $x_0$. The error metric should be $|f(y)|$. "
   ]
  },
  {
   "cell_type": "markdown",
   "metadata": {},
   "source": [
    "### Test cases:\n",
    "\n",
    "Input: $x = 2, n = 6, x_0 = 1.5, tol = 10^{-3}$\n",
    "\n",
    "Output: $1.122508714183985$    \n",
    "\n",
    "(the exact answer for $\\sqrt[6]{2} = 1.122462048309373$)\n",
    "\n",
    "$\\newline$\n",
    "\n",
    "Input: $x = 9, n = 4, x_0 = 1.7, tol = 10^{-4}$\n",
    "\n",
    "Output: $1.73205546372756$\n",
    "\n",
    "(the exact answer for $\\sqrt[4]{9} = 1.7320508075688772$)\n"
   ]
  },
  {
   "cell_type": "markdown",
   "metadata": {},
   "source": [
    "## Answers\n",
    "First we recall the Netwon-Raphson method. This method provides an improved approximation $x_{n+1}$ for the root of a given function $f(x)$ using the following iterative formula: \n",
    "\n",
    "$$x_{n+1} = x_n - \\frac{f(x_n)}{f'(x_n)},$$\n",
    "\n",
    "where $f'$ denotes the first derivative of the function $f$ and $x_0$ is a chosen initial guess estimate for the root. Starting with $x_0$, the iterative procedure continues to find improved estimates $x_1, x_2, ...$, until the error metric $|f(x)|$ is less than a suitably selected tolerance. \n",
    "\n",
    "Using that iterative formula, we can write the iteration as follow(here, we give a loop implementation and a recursive implementation): "
   ]
  },
  {
   "cell_type": "code",
   "execution_count": 2,
   "metadata": {},
   "outputs": [
    {
     "name": "stdout",
     "output_type": "stream",
     "text": [
      "(Loop implementation) The 6th root of 2 is 1.1225087141839853\n",
      "(Recursive implementation) The 6th root of 2 is 1.1225087141839853\n",
      "(Loop implementation) The 4th root of 9 is 1.732055463727564\n",
      "(Recursive implementation) The 4th root of 9 is 1.732055463727564\n"
     ]
    }
   ],
   "source": [
    "## Your Code## \n",
    "# nthRoot function solved by newton Raphson method loop implementation\n",
    "def nthRoot1(x,n,x0,tol):\n",
    "    \"\"\"\n",
    "    Find the nthRoot using newton Raphson method loop implementation\n",
    "    \n",
    "    Parameters\n",
    "    ----------\n",
    "    x : float\n",
    "        The value of root will find.\n",
    "    n : float\n",
    "        nth root.\n",
    "    x0 : float\n",
    "        Initial guess of x.\n",
    "    tol : float\n",
    "        Tolerance of the error.\n",
    "    \n",
    "    Returns\n",
    "    -------\n",
    "    x0 : float\n",
    "        nth root of x\n",
    "\n",
    "    \"\"\"\n",
    "    f=lambda y: y**n-x\n",
    "    f_p=lambda y: n*y**(n-1)\n",
    "    step=0\n",
    "    while (1):\n",
    "        step=step+1\n",
    "        x0=x0-f(x0)/f_p(x0)\n",
    "        if abs(f(x0))<tol:\n",
    "            return x0\n",
    "        if step>1000:   # Function exit if not convergence after 1000 steps\n",
    "            print(f'Solution not convergence at step {step}')\n",
    "            return x0\n",
    "\n",
    "# nthRoot function solved by newton Raphson method recursive implementation\n",
    "def nthRoot2(x,n,x0,tol):\n",
    "    \"\"\"\n",
    "    Find the nthRoot using newton Raphson method recursive implementation\n",
    "    \n",
    "    Parameters\n",
    "    ----------\n",
    "    x : float\n",
    "        The value of root will find.\n",
    "    n : float\n",
    "        nth root.\n",
    "    x0 : float\n",
    "        Initial guess of x.\n",
    "    tol : float\n",
    "        Tolerance of the error.\n",
    "    \n",
    "    Returns\n",
    "    -------\n",
    "    x0 : float\n",
    "        nth root of x\n",
    "\n",
    "    \"\"\"\n",
    "    f=lambda y: y**n-x\n",
    "    f_p=lambda y: n*y**(n-1) \n",
    "    if abs(f(x0))<tol:\n",
    "        return x0\n",
    "    else:\n",
    "        return nthRoot2(x,n,x0-f(x0)/f_p(x0),tol)\n",
    "\n",
    "#Test case1\n",
    "x1=nthRoot1(2,6,1.5,0.001)\n",
    "print(f'(Loop implementation) The {6}th root of {2} is {x1}')\n",
    "x1=nthRoot2(2,6,1.5,0.001)\n",
    "print(f'(Recursive implementation) The {6}th root of {2} is {x1}')\n",
    "\n",
    "#Test case2\n",
    "x2=nthRoot1(9,4,1.7,0.0001)\n",
    "print(f'(Loop implementation) The {4}th root of {9} is {x2}')\n",
    "x1=nthRoot2(9,4,1.7,0.0001)\n",
    "print(f'(Recursive implementation) The {4}th root of {9} is {x2}')"
   ]
  },
  {
   "cell_type": "markdown",
   "metadata": {},
   "source": [
    "## Question 2 "
   ]
  },
  {
   "cell_type": "markdown",
   "metadata": {},
   "source": [
    "Write a function $myNewton(f, df, x_0, tol)$ that returns $[R, E]$, where $f$ is a function object, $df$ is a function object giving the derivative of $f$, $x_0$ is an initial estimation of the root and $tol$ is a strictly positive scalar. The function should return an array $R$ where $R[i]$ is the Newton Raphson estimate of the root of $f$ for the $i^{th}$ iteration. Remember to include the initial estimate. \n",
    "\n",
    "The function should also return an array $E$, where $E[i]$ is the value of $|f(R[i])$ for the $i$th iteration of the Newton Raphson method. The function should terminate when $E(i) < tol$. Assume that the derivative $f$ will not hit zero during any iteration for any of the test cases given below. "
   ]
  },
  {
   "cell_type": "markdown",
   "metadata": {},
   "source": [
    "### Test cases:\n",
    "\n",
    "Input: $f = x^2 - 2$, $df = 2x$, $x_0 = 1$ and $tol = 1e-5$\n",
    "\n",
    "Output: \n",
    "\n",
    "$R = [1, 1.5, 1.4166666666666667, 1.4142156862745099]$\n",
    "\n",
    "$E = [1, 0.25, 0.006944444444444642, 6.007304882871267e-06]$\n",
    "\n",
    "\n",
    "$\\newline$\n",
    "\n",
    "Input: $f = sin(x) - cos(x)$, $df = cos(x) + sin(x)$, $x_0 = 1$ and $tol = 1e-5$\n",
    "\n",
    "Output: \n",
    "\n",
    "$R = [1, 0.782041901539138, 0.7853981759997019]$\n",
    "\n",
    "$E = [0.30116867893975674, 0.004746462127804163, 1.7822277875723103e-08]$\n"
   ]
  },
  {
   "cell_type": "markdown",
   "metadata": {},
   "source": [
    "## Answer"
   ]
  },
  {
   "cell_type": "markdown",
   "metadata": {},
   "source": [
    "We provide an example of loop implementation to solve this problem."
   ]
  },
  {
   "cell_type": "code",
   "execution_count": 3,
   "metadata": {},
   "outputs": [
    {
     "name": "stdout",
     "output_type": "stream",
     "text": [
      "[1, 1.5, 1.4166666666666667, 1.4142156862745099]\n",
      "[1, 0.25, 0.006944444444444642, 6.007304882871267e-06]\n",
      "[1, 0.782041901539138, 0.7853981759997019]\n",
      "[0.30116867893975674, 0.004746462127804163, 1.7822277875723103e-08]\n"
     ]
    }
   ],
   "source": [
    "def myNewton(f,df,x0,tol):\n",
    "    \"\"\"\n",
    "    Find the root of function f using newton Raphson method\n",
    "    \n",
    "    Parameters\n",
    "    ----------\n",
    "    f : function\n",
    "        The function whose root need to be found. f(x)=0\n",
    "    df : function\n",
    "        derivative of f.\n",
    "    x0 : float\n",
    "        Initial guess of x.\n",
    "    tol : float\n",
    "        Tolerance of the error.\n",
    "    \n",
    "    Returns\n",
    "    -------\n",
    "    R : list\n",
    "        Root of f in different iterations\n",
    "    E : list\n",
    "        Error of root in different iterations\n",
    "\n",
    "    \"\"\"\n",
    "    step=0\n",
    "    R=[x0]\n",
    "    E=[abs(f(x0))]\n",
    "    while (1):\n",
    "        step=step+1        \n",
    "        x0=x0-f(x0)/df(x0)\n",
    "        R.append(x0)       # Append updated x0 and error in list R and E\n",
    "        E.append(abs(f(x0)))\n",
    "        if abs(f(x0))<tol:\n",
    "            return R,E\n",
    "        if step>1000:   # Function exit if not convergence after 1000 steps\n",
    "            print(f'Solution not convergence at step {step}')\n",
    "            return R,E\n",
    "\n",
    "#test case1\n",
    "f=lambda x: x**2-2\n",
    "df=lambda x: 2*x\n",
    "R,E=myNewton(f,df,1,0.00001)\n",
    "print(R)\n",
    "print(E)\n",
    "\n",
    "#test case2\n",
    "import math\n",
    "f=lambda x: math.sin(x)-math.cos(x)\n",
    "df=lambda x: math.cos(x)+math.sin(x)\n",
    "R,E=myNewton(f,df,1,0.00001)\n",
    "print(R)\n",
    "print(E)\n",
    "\n",
    "\n"
   ]
  },
  {
   "cell_type": "markdown",
   "metadata": {},
   "source": [
    "#### The following section is optional.\n",
    "\n",
    "\n",
    "\n",
    "You can view the following recursive implementation if you are intere\n",
    "sted. We will need a list to be passed into a function recursively to append at each recursive step. It will be a little bit complex."
   ]
  },
  {
   "cell_type": "code",
   "execution_count": 4,
   "metadata": {},
   "outputs": [
    {
     "name": "stdout",
     "output_type": "stream",
     "text": [
      "[1, 1.5, 1.4166666666666667, 1.4142156862745099]\n",
      "[1, 0.25, 0.006944444444444642, 6.007304882871267e-06]\n",
      "[1, 0.782041901539138, 0.7853981759997019]\n",
      "[0.30116867893975674, 0.004746462127804163, 1.7822277875723103e-08]\n"
     ]
    }
   ],
   "source": [
    "def myNewton2(f,df,x0,tol,R,E):\n",
    "    \"\"\"\n",
    "    Find the root of function f using newton Raphson method\n",
    "    \n",
    "    Parameters\n",
    "    ----------\n",
    "    f : function\n",
    "        The function whose root need to be found. f(x)=0\n",
    "    df : function\n",
    "        derivative of f.\n",
    "    x0 : float\n",
    "        Initial guess of x.\n",
    "    tol : float\n",
    "        Tolerance of the error.\n",
    "    R   : List\n",
    "        R to store all iterative values. An empty array should be input initially.\n",
    "    E   : List\n",
    "        E to store all differences between 0 and estimated root. An empty array should be input initially.\n",
    "    \n",
    "    Returns\n",
    "    -------\n",
    "    R : list\n",
    "        Root of f in different iterations\n",
    "    E : list\n",
    "        Error of root in different iterations\n",
    "\n",
    "    \"\"\"\n",
    "    if abs(f(x0))<tol:    # If the value within our tolerance, then we append last value and return list R and E\n",
    "        R.append(x0)\n",
    "        E.append(abs(f(x0)))\n",
    "        return R,E\n",
    "    else:                 #If not satisfied the tolerance, then we append x0 and f(x0) from previous step and update x0\n",
    "        R.append(x0)\n",
    "        E.append(abs(f(x0)))\n",
    "        x0=x0-f(x0)/df(x0)# Newton Raphson formula to update x0ß\n",
    "        return myNewton2(f,df,x0,tol,R,E)\n",
    "\n",
    "    \n",
    "    \n",
    "#test case1\n",
    "f=lambda x: x**2-2\n",
    "df=lambda x: 2*x\n",
    "R=[]\n",
    "E=[]\n",
    "R,E=myNewton2(f,df,1,0.00001,R,E)\n",
    "print(R)\n",
    "print(E)\n",
    "\n",
    "#test case2\n",
    "import math\n",
    "R=[]\n",
    "E=[]\n",
    "f1=lambda x: math.sin(x)-math.cos(x)\n",
    "df1=lambda x: math.cos(x)+math.sin(x)\n",
    "R,E=myNewton2(f1,df1,1,0.00001,R,E)\n",
    "print(R)\n",
    "print(E)\n"
   ]
  },
  {
   "cell_type": "code",
   "execution_count": null,
   "metadata": {},
   "outputs": [],
   "source": []
  }
 ],
 "metadata": {
  "kernelspec": {
   "display_name": "Python 3 (ipykernel)",
   "language": "python",
   "name": "python3"
  },
  "language_info": {
   "codemirror_mode": {
    "name": "ipython",
    "version": 3
   },
   "file_extension": ".py",
   "mimetype": "text/x-python",
   "name": "python",
   "nbconvert_exporter": "python",
   "pygments_lexer": "ipython3",
   "version": "3.9.15"
  },
  "vscode": {
   "interpreter": {
    "hash": "ffbf1cc7c04e6bcac5793de883e17ba09da3acf025c7506dd8635bc350506030"
   }
  }
 },
 "nbformat": 4,
 "nbformat_minor": 4
}