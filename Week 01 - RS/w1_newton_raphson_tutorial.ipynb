{
 "cells": [
  {
   "cell_type": "markdown",
   "id": "fd0e897a",
   "metadata": {},
   "source": [
    "# Week 1 - Newton Raphson Method"
   ]
  },
  {
   "cell_type": "markdown",
   "id": "f9f2d502",
   "metadata": {},
   "source": [
    "This tutorial discusses the implementation of the Newton Raphson method, which is an iterative method\n",
    "frequently used to compute the roots of functions. "
   ]
  },
  {
   "cell_type": "markdown",
   "id": "e5c853c3",
   "metadata": {},
   "source": [
    "## 1. Background"
   ]
  },
  {
   "cell_type": "markdown",
   "id": "61072ece",
   "metadata": {},
   "source": [
    "The Newton Raphson method provides an improved approximation $x_{n+1}$ for the root of a given function $f(x)$ using the following iterative formula: \n",
    "\n",
    "$$x_{n+1} = x_n - \\frac{f(x_n)}{f'(x_n)},$$\n",
    "\n",
    "where $f'$ denotes the first derivative of the function $f$ and $x_0$ is a chosen initial guess estimate for the root. Starting with $x_0$, the iterative procedure continues to find improved estimates $x_1, x_2, ...$, until the error metric $|f(x)|$ is less than a suitably selected tolerance. \n",
    "\n",
    "It is worth noting that the method fails if the initial guess estimate $x_0$ is not close enough to the actual root of the function and that the first derivative at $x_0$ cannot vanish i.e. $f'(x_0) \\neq 0$. "
   ]
  },
  {
   "cell_type": "markdown",
   "id": "9caa0c32",
   "metadata": {},
   "source": [
    "## 2. A Simple Example"
   ]
  },
  {
   "cell_type": "markdown",
   "id": "bf45bbc7",
   "metadata": {},
   "source": [
    "We know that $\\sqrt{2}$ is one of the roots of the function $f(x) = x^2 -2$. Using an initial guess $x_0 = 1.4$, use the Newton Raphson method above to compute an estimate to $\\sqrt{2}$. Compare this approximation with the value computed by Python's $sqrt$ function: \n",
    "\n",
    "$$x_1 = x_0 - \\frac{f(x_0)}{f'(x_0)} = 1.4 - \\frac{1.4^2 - 2}{2*1.4} = 1.4142857142857144$$"
   ]
  },
  {
   "cell_type": "code",
   "execution_count": 9,
   "id": "25c7468e",
   "metadata": {},
   "outputs": [
    {
     "name": "stdout",
     "output_type": "stream",
     "text": [
      "newton_raphson = 1.4142857142857144\n",
      "sqrt(2) = 1.4142135623730951\n"
     ]
    }
   ],
   "source": [
    "import numpy as np\n",
    "\n",
    "f = lambda x: x**2 - 2       # define function f(x) = x^2 - 2\n",
    "\n",
    "f_prime = lambda x: 2*x      # define derivative f'(x) = 2x\n",
    "\n",
    "newton_raphson = 1.4 - (f(1.4))/(f_prime(1.4))     # compute improved estimate using the Newton Raphson method\n",
    "\n",
    "print(\"newton_raphson =\", newton_raphson)      # compare numerical solution with exact answer\n",
    "print(\"sqrt(2) =\", np.sqrt(2))   "
   ]
  },
  {
   "cell_type": "markdown",
   "id": "dfda97b0",
   "metadata": {},
   "source": [
    "## 3. General Implementation"
   ]
  },
  {
   "cell_type": "markdown",
   "id": "d0ebe5a8",
   "metadata": {},
   "source": [
    "Write a function $myNewton(f, df, x0, tol)$, where the output is an estimate of the root of $f$, $f$ is a function object for $f(x)$, $df$ is a function object for $f'(x)$, $x_0$ is an initial guess and $tol$ is the error tolerance. The error measurement should be $|f(x)|$."
   ]
  },
  {
   "cell_type": "code",
   "execution_count": 12,
   "id": "4807e999",
   "metadata": {},
   "outputs": [],
   "source": [
    "def myNewton(f, df, x0, tol):\n",
    "    \n",
    "    # output is an estimation of the root of f \n",
    "    # using the Newton Raphson method\n",
    "    # features a recursive implementation (function calls itself repeatedly)\n",
    "    \n",
    "    if abs(f(x0)) < tol:   # error check to decide termination\n",
    "        \n",
    "        return x0          # returns final root estimate\n",
    "    \n",
    "    else:\n",
    "        \n",
    "        return myNewton(f, df, x0 - f(x0)/df(x0), tol)  # function calls itself passing new estimate as next guess"
   ]
  },
  {
   "cell_type": "markdown",
   "id": "4e620e00",
   "metadata": {},
   "source": [
    "## 4. Test Use"
   ]
  },
  {
   "cell_type": "markdown",
   "id": "f3949764",
   "metadata": {},
   "source": [
    "Use the general implementation $myNewton(f, df, x0, tol)$ to compute the root $\\sqrt{2}$ of the function $f(x) = x^2 -2$ given above, to within a tolerance of $10^{-6}$, starting with $x_0 = 1.5$"
   ]
  },
  {
   "cell_type": "code",
   "execution_count": 15,
   "id": "0d656886",
   "metadata": {},
   "outputs": [
    {
     "name": "stdout",
     "output_type": "stream",
     "text": [
      "estimate = 1.4142135623746899\n",
      "sqrt(2) = 1.4142135623730951\n"
     ]
    }
   ],
   "source": [
    "estimate = myNewton(f, f_prime, 1.5, 1e-6)   # call myNewton with f(x)=x^2 -2, f'(x) = 2x, x_0 = 1.5, tol = 10^-6\n",
    "\n",
    "print(\"estimate =\", estimate)    # compare numerical solution with exact answer\n",
    "\n",
    "print(\"sqrt(2) =\", np.sqrt(2))"
   ]
  },
  {
   "cell_type": "markdown",
   "id": "e333934e",
   "metadata": {},
   "source": [
    "## 5. Method Fail - Wrong Initial Guess"
   ]
  },
  {
   "cell_type": "markdown",
   "id": "188730fc",
   "metadata": {},
   "source": [
    "Compute a single Newton iteration step to get an improved approxmiation of the root of the function $f(x) = x^3 + 3x^2 - 2x - 5$ and initial guess $x_0 = 0.29$ "
   ]
  },
  {
   "cell_type": "code",
   "execution_count": 16,
   "id": "4336a835",
   "metadata": {},
   "outputs": [
    {
     "name": "stdout",
     "output_type": "stream",
     "text": [
      "x1 = -688.4516883116648\n"
     ]
    }
   ],
   "source": [
    "x0 = 0.29\n",
    "\n",
    "x1 = x0-(x0**3+3*x0**2-2*x0-5)/(3*x0**2+6*x0-2)    # compute next improved guess\n",
    "\n",
    "print(\"x1 =\", x1)"
   ]
  },
  {
   "cell_type": "markdown",
   "id": "6472f708",
   "metadata": {},
   "source": [
    "This is clearly NOT the correct root (one of the correct roots is $x = 1.33$), because for the initial guess $x_0 = 0.29$, we have $f'(x_0) = -0.0077$ (very close to zero), so the method fails, generating a huge error $|f(x_1)| \\approx 324880000$ (very large). \n",
    "\n",
    "So the initial guess for $x_0$ must be changed to satisfy $f'(x_0) \\neq 0$."
   ]
  }
 ],
 "metadata": {
  "kernelspec": {
   "display_name": "Python 3 (ipykernel)",
   "language": "python",
   "name": "python3"
  },
  "language_info": {
   "codemirror_mode": {
    "name": "ipython",
    "version": 3
   },
   "file_extension": ".py",
   "mimetype": "text/x-python",
   "name": "python",
   "nbconvert_exporter": "python",
   "pygments_lexer": "ipython3",
   "version": "3.9.13"
  }
 },
 "nbformat": 4,
 "nbformat_minor": 5
}
