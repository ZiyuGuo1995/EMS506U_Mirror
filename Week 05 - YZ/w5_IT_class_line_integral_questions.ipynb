{
 "cells": [
  {
   "cell_type": "markdown",
   "metadata": {},
   "source": [
    "# Week 5 - IT Class Questions - Line Integrals"
   ]
  },
  {
   "cell_type": "markdown",
   "metadata": {},
   "source": [
    "## Question 1"
   ]
  },
  {
   "cell_type": "markdown",
   "metadata": {},
   "source": [
    "Find $\\int\\limits_C \\underline{\\textbf{F}} \\cdot \\underline{\\textbf{dr}}$ along $y = 2x$ from $(0, 0)$ to $(2,4)$ for $\\underline{\\textbf{F}} = \\nabla (x^2 y)$. \n"
   ]
  },
  {
   "cell_type": "code",
   "execution_count": null,
   "metadata": {},
   "outputs": [],
   "source": [
    "## Your Answer ## \n",
    "\n",
    "\n",
    "\n",
    "\n",
    "\n",
    "\n",
    "\n"
   ]
  },
  {
   "cell_type": "markdown",
   "metadata": {},
   "source": [
    "## Question 2 "
   ]
  },
  {
   "cell_type": "markdown",
   "metadata": {},
   "source": [
    "The magnetic induction $\\underline{\\textbf{B}}$ due to a current with strength $I$ through an infinite long wire along the $z$-axis is given by \n",
    "\n",
    "$$\\underline{\\textbf{B}} = \\frac{\\mu_o I}{2\\pi} \\bigg(-\\frac{y}{x^2+y^2}, \\frac{x}{x^2+y^2}, 0\\bigg) $$\n",
    "\n",
    "where $\\mu_o$ denotes the permeability of the vacuum. Calculate $\\int\\limits_C \\underline{\\textbf{B}} \\cdot \\underline{\\textbf{dr}}$ along the following curves:\n",
    "\n",
    "a) $C$ is the circle $x^2 + y^2 = a^2$, $z = 0$ traversed counter clockwise. \n",
    "\n",
    "b) $C$ is the square traversed in such a way that consecutive vertices are $(1,1,0), (-1,1,0), (-1,-1,0), (1,-1,0)$."
   ]
  },
  {
   "cell_type": "code",
   "execution_count": null,
   "metadata": {},
   "outputs": [],
   "source": [
    "## Your Answer ## \n",
    "\n",
    "\n",
    "\n",
    "\n",
    "\n",
    "\n",
    "\n",
    "\n",
    "\n"
   ]
  },
  {
   "cell_type": "markdown",
   "metadata": {},
   "source": [
    "## Question 3"
   ]
  },
  {
   "cell_type": "markdown",
   "metadata": {},
   "source": [
    "Let $\\underline{\\textbf{v}} = (y,x,1)$ and let $C$ be the half ellipse from $(1,0,-1)$ to $(-1,0,1)$ described by \n",
    "$x^2 + y^2 = 1$, $x + y + z = 0$ and $y \\geq 0$. \n",
    "\n",
    "Calculate $\\int\\limits_C \\underline{\\textbf{v}} \\cdot \\underline{\\textbf{dr}}$.\n"
   ]
  },
  {
   "cell_type": "code",
   "execution_count": 3,
   "metadata": {},
   "outputs": [],
   "source": [
    "## Your Answer ## \n",
    "\n",
    "\n",
    "\n",
    "\n",
    "\n",
    "\n",
    "\n",
    "\n",
    "\n"
   ]
  }
 ],
 "metadata": {
  "kernelspec": {
   "display_name": "Python 3 (ipykernel)",
   "language": "python",
   "name": "python3"
  },
  "language_info": {
   "codemirror_mode": {
    "name": "ipython",
    "version": 3
   },
   "file_extension": ".py",
   "mimetype": "text/x-python",
   "name": "python",
   "nbconvert_exporter": "python",
   "pygments_lexer": "ipython3",
   "version": "3.9.13"
  }
 },
 "nbformat": 4,
 "nbformat_minor": 4
}
