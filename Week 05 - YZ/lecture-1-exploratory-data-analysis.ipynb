{
 "cells": [
  {
   "cell_type": "markdown",
   "id": "f774f53f",
   "metadata": {},
   "source": [
    "# 1: Exploratory data analysis\n",
    "\n",
    "We start by looking at how to explore our data. We will cover\n",
    "\n",
    "* Categorical variables\n",
    "* Numeric variables\n",
    "* Looking for outliers\n",
    "* Exploring correlations in the data\n",
    "\n",
    "Some extrnal resources that you might find useful:\n",
    "\n",
    "* https://towardsdatascience.com/exploratory-data-analysis-in-python-a-step-by-step-process-d0dfa6bf94ee"
   ]
  },
  {
   "cell_type": "code",
   "execution_count": 1,
   "id": "3ba4c5cc",
   "metadata": {},
   "outputs": [],
   "source": [
    "# data manipulation\n",
    "import pandas as pd\n",
    "import numpy as np\n",
    "\n",
    "# data viz\n",
    "import matplotlib.pyplot as plt\n",
    "from matplotlib import rcParams\n",
    "import seaborn as sns\n",
    "\n",
    "# apply some cool styling\n",
    "plt.style.use(\"ggplot\")\n",
    "rcParams['figure.figsize'] = (12,  6)\n",
    "\n",
    "# use sklearn to import a dataset\n",
    "from sklearn.datasets import load_wine"
   ]
  },
  {
   "cell_type": "markdown",
   "id": "80065de4",
   "metadata": {},
   "source": [
    "## Import the data\n",
    "Importing a dataset is simple with Pandas through functions dedicated to reading the data. If our dataset is a .csv file, we can just use\n",
    "\n",
    "`df = pd.read_csv(\"path/to/my/file.csv\")`\n",
    "\n",
    "df stands for dataframe, which is Pandas’s object similar to an Excel sheet. This nomenclature is often used in the field. The read_csv function takes as input the path of the file we want to read. There are many other arguments that we can specify.\n",
    "\n",
    "The .csv format is not the only one we can import — there are in fact many others such as Excel, Parquet and Feather.\n",
    "\n",
    "For ease, in this example we will use Sklearn to import the wine dataset.\n",
    "\n",
    "We eill set a new column called `target` which is a class for the wines."
   ]
  },
  {
   "cell_type": "code",
   "execution_count": 2,
   "id": "47d50d91",
   "metadata": {},
   "outputs": [],
   "source": [
    "# carichiamo il dataset\n",
    "wine = load_wine()\n",
    "\n",
    "# convertiamo il dataset in un dataframe Pandas\n",
    "df = pd.DataFrame(data=wine.data, columns=wine.feature_names)\n",
    "# creiamo la colonna per il target\n",
    "df[\"target\"] = wine.target"
   ]
  },
  {
   "cell_type": "markdown",
   "id": "d9ee8396",
   "metadata": {},
   "source": [
    "## Take a quick look using Pandas\n",
    "\n",
    "Two of the most commonly used functions in Pandas are `.head()` and `.tail()`. These two allow us to view an arbitrary number of rows (by default 5) from the beginning or end of the dataset. Very useful for accessing a small part of the dataframe quickly.\n",
    "\n",
    "We can also use:\n",
    "* `.shape`\n",
    "* `.describe()`\n",
    "* `.info()`\n",
    "\n",
    "**Note** the `.shape` call is not followed by parentheses `()`; this is beacause `shape` is an attribute of the dataset, whereas `describe` for example is a function that acts on the dataset."
   ]
  },
  {
   "cell_type": "code",
   "execution_count": null,
   "id": "0f238026",
   "metadata": {},
   "outputs": [],
   "source": []
  },
  {
   "cell_type": "code",
   "execution_count": null,
   "id": "e82a977c",
   "metadata": {},
   "outputs": [],
   "source": []
  },
  {
   "cell_type": "code",
   "execution_count": null,
   "id": "5005d1f0",
   "metadata": {},
   "outputs": [],
   "source": []
  },
  {
   "cell_type": "code",
   "execution_count": null,
   "id": "5aa90318",
   "metadata": {},
   "outputs": [],
   "source": []
  },
  {
   "cell_type": "markdown",
   "id": "095728fc",
   "metadata": {},
   "source": [
    "Notice that info gives quite different results to describe. Info tells us about the data types - describe gives us some summary statistics."
   ]
  },
  {
   "cell_type": "markdown",
   "id": "988baa46",
   "metadata": {},
   "source": [
    "## Make names more sensible\n",
    "\n",
    "The name `od280/od315_of_diluted_wines` refers to a test for protein content. But it is not very descriptive to us, let's chance it to make life easier for ourselves later."
   ]
  },
  {
   "cell_type": "code",
   "execution_count": 6,
   "id": "fb45b2e1",
   "metadata": {},
   "outputs": [],
   "source": [
    "df.rename(columns={\"od280/od315_of_diluted_wines\": \"protein_concentration\"}, inplace=True)"
   ]
  },
  {
   "cell_type": "markdown",
   "id": "23a63953",
   "metadata": {},
   "source": [
    "## Undestanding the variables\n",
    "\n",
    "We will look at two main types of variable discussed in the lecture: categorical and numeric.\n",
    "\n",
    "### Categorical variables\n",
    "\n",
    "Categorical variables are those where the data are labelled by class, for example it could be data on something like postcode. If we had labelled houses by postcode, then this is said to be categorical data.\n",
    "\n",
    "Let's look at the distribution of the types for the wines, the `target` column\n"
   ]
  },
  {
   "cell_type": "code",
   "execution_count": null,
   "id": "a71ce3cf",
   "metadata": {},
   "outputs": [],
   "source": []
  },
  {
   "cell_type": "code",
   "execution_count": null,
   "id": "21f27d2d",
   "metadata": {},
   "outputs": [],
   "source": []
  },
  {
   "cell_type": "code",
   "execution_count": null,
   "id": "9566182c",
   "metadata": {},
   "outputs": [],
   "source": []
  },
  {
   "cell_type": "markdown",
   "id": "7a2dd32a",
   "metadata": {},
   "source": [
    "### Numeric values\n",
    "\n",
    "Numeric data is when we assign a numerical value as the label of an instance. To take the houses example again, we might label the houses by the distance to the nearest bus stop, this would then be a numeric data set.\n",
    "\n",
    "We can perform exploratory analysis of the numeric values using the `.describe()` function."
   ]
  },
  {
   "cell_type": "code",
   "execution_count": null,
   "id": "098de2d4",
   "metadata": {},
   "outputs": [],
   "source": []
  },
  {
   "cell_type": "code",
   "execution_count": null,
   "id": "c30c74b9",
   "metadata": {},
   "outputs": [],
   "source": []
  },
  {
   "cell_type": "markdown",
   "id": "c8c57bc4",
   "metadata": {},
   "source": [
    "Question do you think this has high/low skew - or high/low kurotis?"
   ]
  },
  {
   "cell_type": "code",
   "execution_count": null,
   "id": "8cea4e11",
   "metadata": {},
   "outputs": [],
   "source": []
  },
  {
   "cell_type": "code",
   "execution_count": null,
   "id": "76427ab8",
   "metadata": {},
   "outputs": [],
   "source": []
  },
  {
   "cell_type": "markdown",
   "id": "1a648bb1",
   "metadata": {},
   "source": [
    "## Question which of the datasets might have an outlier"
   ]
  },
  {
   "cell_type": "code",
   "execution_count": null,
   "id": "597e31e5",
   "metadata": {},
   "outputs": [],
   "source": []
  },
  {
   "cell_type": "markdown",
   "id": "e715141f",
   "metadata": {},
   "source": [
    "## Take a closer look at the outlier"
   ]
  },
  {
   "cell_type": "code",
   "execution_count": null,
   "id": "303c83db",
   "metadata": {},
   "outputs": [],
   "source": []
  },
  {
   "cell_type": "markdown",
   "id": "7db33e57",
   "metadata": {},
   "source": [
    "We can then remove that data from the data set, if we choose to."
   ]
  },
  {
   "cell_type": "code",
   "execution_count": null,
   "id": "8eaf3cc9",
   "metadata": {},
   "outputs": [],
   "source": []
  },
  {
   "cell_type": "markdown",
   "id": "54af801d",
   "metadata": {},
   "source": [
    "## Explore correlations in the data\n",
    "\n",
    "As we discussed in the lecture we might want to remove features in the data that are very closely related to one another. Imagine a data set that had one feature with temperature in F and one with temperature in C. Now these two features tell us exactly the same thing, but on a different scale. Later we will see that adding both to a model would be of no benifit, as they do not carry any extra information. To look for redundant information between features ($x$ and $y$) we can use the correlation.\n",
    "$$\n",
    "r = \\frac{\\sum(x_i - \\bar{x})(y_i - \\bar{y})}{\\sqrt{\\sum(x_i - \\bar{x})^2(y_i - \\bar{y})^2}}\n",
    "$$\n"
   ]
  },
  {
   "cell_type": "code",
   "execution_count": null,
   "id": "e235ecc7",
   "metadata": {},
   "outputs": [],
   "source": []
  },
  {
   "cell_type": "code",
   "execution_count": null,
   "id": "87b04fd0",
   "metadata": {},
   "outputs": [],
   "source": []
  },
  {
   "cell_type": "markdown",
   "id": "8354eec3",
   "metadata": {},
   "source": [
    "Question - which data are most correlated. If you had to choose to drop one column based on the relation to the target, which would it be? If you had to drop one of the strongly correlated columns, which would it be? "
   ]
  },
  {
   "cell_type": "code",
   "execution_count": null,
   "id": "4d208442",
   "metadata": {},
   "outputs": [],
   "source": []
  }
 ],
 "metadata": {
  "kernelspec": {
   "display_name": "Python 3 (ipykernel)",
   "language": "python",
   "name": "python3"
  },
  "language_info": {
   "codemirror_mode": {
    "name": "ipython",
    "version": 3
   },
   "file_extension": ".py",
   "mimetype": "text/x-python",
   "name": "python",
   "nbconvert_exporter": "python",
   "pygments_lexer": "ipython3",
   "version": "3.8.13"
  }
 },
 "nbformat": 4,
 "nbformat_minor": 5
}
