{
 "cells": [
  {
   "cell_type": "markdown",
   "metadata": {},
   "source": [
    "# Week 12 IT Class Ordinary Differential Equations"
   ]
  },
  {
   "cell_type": "markdown",
   "metadata": {},
   "source": [
    "## Question 1"
   ]
  },
  {
   "attachments": {},
   "cell_type": "markdown",
   "metadata": {},
   "source": [
    "We have the ODE:\n",
    "\n",
    "$$\\frac{dy}{dt}=y$$\n",
    "\n",
    "subject to the initial condition $y(0)=1$.\n",
    "\n",
    "(a)\tUse the RK4 method and Python to calculate $y(1)$, with different time steps $h = 0.2, 0.1, 0.04, 0.01,$\n",
    "\n",
    "(b)\tplot the difference between the exact value of $y(1)$ and the numerical approximation as a function $h$, what is the order of accuracy of the RK4?\n"
   ]
  },
  {
   "attachments": {},
   "cell_type": "markdown",
   "metadata": {},
   "source": [
    "## Answer\n",
    "<b>(a) </b>"
   ]
  },
  {
   "cell_type": "code",
   "execution_count": null,
   "metadata": {},
   "outputs": [],
   "source": [
    "import numpy as np\n",
    "import math"
   ]
  },
  {
   "attachments": {},
   "cell_type": "markdown",
   "metadata": {},
   "source": [
    "The iteration formula for the RK4 method can be devided into the following steps:\n",
    "\n",
    "Step 1: calculate \n",
    "$$K_1 = f(t_n,y_n)$$\n",
    "\n",
    "Step 2: calculate \n",
    "$$K_2 = f(t_{n+1/2},y_n+\\frac{1}{2}hK_1)$$\n",
    "\n",
    "Step 3: calculate\n",
    "$$K_3 = f(t_{n+1/2},y_n+\\frac{1}{2}hK_2)$$\n",
    "\n",
    "Step 4: calculate\n",
    "$$K_4 = f(t_{n+1},y_n+hK_3)$$\n",
    "\n",
    "Step 5: calculate\n",
    "$$y_{n+1} = y_{n} + h\\frac{K_1+2K_2+2K_3+K_4}{6}$$\n",
    "\n",
    "Here, $f(t_n,y_n)=y_n$.\n",
    "\n",
    "Based on the formula, please fill the code section below "
   ]
  },
  {
   "cell_type": "code",
   "execution_count": null,
   "metadata": {},
   "outputs": [],
   "source": [
    "# Initialize parameters for this problem\n",
    "h = 0.2                   # You can change h here, h=0.2,0.1,0.04,0.01\n",
    "nsteps = math.floor(1/h)  # Number of iterations for t=1 with the time step h\n",
    "f = lambda t,y : y         # Defination of the function f(t,y)=y\n",
    "y = 1                     # Initial value. y(t=0)=1.\n",
    "t = 0                     # start from t=0\n",
    "for i in range(nsteps): # RK4 iteration loop\n",
    "    k1 = f(t,y)                        # K1 = f(tn , yn)\n",
    "    k2 = f(t + 0.5 * h,y + 0.5 * h * k1)   # K2 = f(tn+1/2 , yn + h / 2 * K1)\n",
    "    k3 = f(t + 0.5 * h,y + 0.5 * h * k2)   # K3 = f(tn+1/2 , yn + h / 2 * K2)\n",
    "    k4 = f(t + h,y + h * k3)               # K4 = f(tn+1 , yn + h * K3)\n",
    "    # yn+1 = yn + h * (K1 + 2K2 +2K3 + K4) / 6\n",
    "    y = y + h * (k1 + 2 * k2 + 2 * k3 + k4)/ 6 \n",
    "    t = t + h\n",
    "\n",
    "print(f'Using the RK4 method with h =', h, 'y(1) =', y)\n",
    "\n",
    "diff = abs(y - math.exp(1))            # Error of the numerical solution.\n",
    "print(f'The difference between the numerical and analytical solutions is', diff)\n",
    "\n"
   ]
  },
  {
   "attachments": {},
   "cell_type": "markdown",
   "metadata": {},
   "source": [
    "<b>(b)</b> Fill the two arrays <b>hs</b> and <b>diffs</b> in the code sectiin below using the result from previous section."
   ]
  },
  {
   "cell_type": "code",
   "execution_count": null,
   "metadata": {},
   "outputs": [],
   "source": [
    "import matplotlib.pyplot as plt\n",
    "\n",
    "# Please calculate difference between analytical solution and nuemrical solution using previous code section.\n",
    "hs=[0.01,0.04,0.1,0.2]      #h values\n",
    "diff=[2.246416386e-10,5.6089764833e-08,2.0843238793e-06,3.069185311e-05]      #Difference between numerical and analytical solution\n",
    "\n",
    "# Plot time step vs error in dual log scale.\n",
    "plt.plot(hs,diff,'--o')\n",
    "plt.title('Error of the RK4 method vs time step size')\n",
    "plt.xlabel('h')\n",
    "plt.ylabel('Diff')\n",
    "plt.yscale('log')\n",
    "plt.xscale('log')\n",
    "plt.axis('equal')\n",
    "plt.grid()\n",
    "plt.show()"
   ]
  },
  {
   "cell_type": "markdown",
   "metadata": {},
   "source": [
    "## Question 2"
   ]
  },
  {
   "attachments": {},
   "cell_type": "markdown",
   "metadata": {},
   "source": [
    "Temperature of an object follows the Newton’s cooling law:\n",
    "\n",
    "$$\\frac{dT}{dt} = -k(T-T_{s}).$$\n",
    "\n",
    "Assume the initial temperature of the object is $100^{\\circ}C$ at $t = 0$, and the environment temperature $T_{s} = 20^{\\circ}C$. The constant $k = 1  (1/s)$. \n",
    "\n",
    "(a)use the RK4 method with $h = 0.2$ to calculate the time evolution of $T$ till $t = 2$ s, plot the result\n",
    "\n",
    "(b)repeat (a) with the midpoint method\n",
    "\n",
    "(c)repeat (a) with the Euler’s method\n",
    "\n",
    "(d)Compare of the results of (a-c) and the exact solution\n"
   ]
  },
  {
   "attachments": {},
   "cell_type": "markdown",
   "metadata": {},
   "source": [
    "## Answer\n",
    "<b>(a)</b> Please fill the following codes."
   ]
  },
  {
   "cell_type": "code",
   "execution_count": null,
   "metadata": {},
   "outputs": [],
   "source": [
    "## Initialize parameters and define the function\n",
    "h = \n",
    "nsteps = \n",
    "f = \n",
    "## Initialize array and add initial condition\n",
    "t_r = \n",
    "T_r = \n",
    "t_r[0] = \n",
    "T_r[0] = \n",
    "\n",
    "# Please filling the RK4 iteration loop below\n",
    "for i in range(nsteps):\n",
    "    #Your code Here#\n",
    "    \n",
    "\n",
    "plt.plot(t_r,T_r)\n",
    "plt.xlabel('t')\n",
    "plt.ylabel('T')\n",
    "plt.title('Time evolution of the ODE, RK4 method')\n",
    "plt.show()"
   ]
  },
  {
   "attachments": {},
   "cell_type": "markdown",
   "metadata": {},
   "source": [
    "<b>(b) and (c) </b>For the Euler's method and midpoint method you may refer to the code written before. Recall the iteration formula for these two methods:\n",
    "\n",
    "Euler's method:\n",
    "$$y_{n+1} = y_{n}+h*f(t_n,y_n),$$\n",
    "\n",
    "Midpoint method:\n",
    "$$y_{n+1} = y_{n}+h*f(t_{n+\\frac{1}{2}},y_{n+\\frac{1}{2}}).$$\n",
    "Where $t_{n+\\frac{1}{2}}$ and $y_{n+\\frac{1}{2}}$ are midpoints, can be represents as following:\n",
    "$$t_{n+\\frac{1}{2}} = t_{n}+\\frac{h}{2},$$\n",
    "$$y_{n+\\frac{1}{2}} = y_{n}+\\frac{h}{2}*f(t_n,y_n).$$"
   ]
  },
  {
   "cell_type": "code",
   "execution_count": null,
   "metadata": {},
   "outputs": [],
   "source": [
    "# Code for midpoint method\n",
    "\n",
    "\n"
   ]
  },
  {
   "cell_type": "code",
   "execution_count": null,
   "metadata": {},
   "outputs": [],
   "source": [
    "# Code for Euler's method\n",
    "\n",
    "\n"
   ]
  },
  {
   "attachments": {},
   "cell_type": "markdown",
   "metadata": {},
   "source": [
    "Plot the results of four methods. Note is you are using a different variable names, you may need to change variable name on the code below."
   ]
  },
  {
   "cell_type": "code",
   "execution_count": null,
   "metadata": {},
   "outputs": [],
   "source": [
    "h = 0.02\n",
    "nsteps = math.floor(2/h)          # Number of iterations, 2s.\n",
    "t_a = np.zeros(nsteps+1)          # Initialize zero array for analytical solution.\n",
    "T_a = np.zeros(nsteps+1)\n",
    "t_a[0] = 0\n",
    "T_a[0] = 100\n",
    "for i in range(nsteps):\n",
    "    t_a[i+1] = t_a[i] + h\n",
    "    T_a[i+1] = 80 * math.exp(-t_a[i+1]) + 20\n",
    "\n",
    "plt.plot(t_a,T_a,label='Analytical solution')\n",
    "plt.plot(t_r,T_r,'--',color='r',label='RK4 method')\n",
    "plt.plot(t_m,T_m,'--',color='orange',label='midpoint method')\n",
    "plt.plot(t_e,T_e,'--',color='green',label='Euler\\'s method')\n",
    "plt.legend(loc='upper right')\n",
    "plt.show()"
   ]
  }
 ],
 "metadata": {
  "kernelspec": {
   "display_name": "Python 3",
   "language": "python",
   "name": "python3"
  },
  "language_info": {
   "codemirror_mode": {
    "name": "ipython",
    "version": 3
   },
   "file_extension": ".py",
   "mimetype": "text/x-python",
   "name": "python",
   "nbconvert_exporter": "python",
   "pygments_lexer": "ipython3",
   "version": "3.10.8 (main, Nov  7 2022, 10:56:38) [Clang 14.0.0 (clang-1400.0.29.202)]"
  },
  "vscode": {
   "interpreter": {
    "hash": "610c699f0cd8c4f129acd9140687fff6866bed0eb8e82f249fc8848b827b628c"
   }
  }
 },
 "nbformat": 4,
 "nbformat_minor": 2
}
