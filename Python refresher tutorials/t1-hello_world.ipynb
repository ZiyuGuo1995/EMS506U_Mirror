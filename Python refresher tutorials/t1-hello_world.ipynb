{
 "cells": [
  {
   "attachments": {},
   "cell_type": "markdown",
   "id": "848acc39",
   "metadata": {},
   "source": [
    "Hello everyone and welcome to programming!\n",
    "\n",
    "If this is your first experience in coding then welcome to a fun world using a powerful programming tool called python!\n",
    "\n",
    "It is easy to get up and running with simple things and we will start with some basic printing to screen. And keeping with tradition we will start with Hello World.\n",
    "\n",
    "To print, we use the \"print()\" command. If we are printing a message, we just put the message inside quote marks '  ' and place this inside the (). So to print hello world, we use the following bit of code:\n",
    "\n"
   ]
  },
  {
   "cell_type": "code",
   "execution_count": null,
   "id": "d3155707",
   "metadata": {},
   "outputs": [],
   "source": [
    "print('hello world')"
   ]
  },
  {
   "attachments": {},
   "cell_type": "markdown",
   "id": "160b7a63",
   "metadata": {
    "tags": []
   },
   "source": [
    "To run the code, first click the box containing the code, then hit the play the arrow at the top of this box. You should see hello world printed below it.\n",
    "\n",
    "Now you can change the message in the above code and press play again - give it a try. You can also write multiple messages by starting a new line and using the print statement again. For example:\n"
   ]
  },
  {
   "cell_type": "code",
   "execution_count": null,
   "id": "ededae96",
   "metadata": {},
   "outputs": [],
   "source": [
    "print('hello world')\n",
    "print('my name is Andrew')"
   ]
  },
  {
   "attachments": {},
   "cell_type": "markdown",
   "id": "89d72649",
   "metadata": {},
   "source": [
    "Now there is one first thing to please note when programming in Python. When writing your code you need to start the message flush to the left-hand side. If you have a space (an indent) this means something specific to Python. We will get to this shortly, but for now, if you have an indent in the code it will crash. So something like this will throw up errors because the second line does not start from the left side.\n"
   ]
  },
  {
   "cell_type": "code",
   "execution_count": null,
   "id": "4f2af53a",
   "metadata": {},
   "outputs": [],
   "source": [
    "print('hello world')\n",
    "  print('my name is Andrew')"
   ]
  },
  {
   "attachments": {},
   "cell_type": "markdown",
   "id": "a874b808",
   "metadata": {},
   "source": [
    "Go on, give it a try and see.\n",
    "\n",
    "Anyway, your turn, can you write  a nice message printed to the screen?"
   ]
  },
  {
   "cell_type": "code",
   "execution_count": null,
   "id": "3bf278f8",
   "metadata": {},
   "outputs": [],
   "source": []
  },
  {
   "attachments": {},
   "cell_type": "markdown",
   "id": "cc2930e7",
   "metadata": {},
   "source": [
    "Comments are very useful for programmer. Hash-mark comments are the most basic way to document your code. Python simply ignores all the text following a #, so you can follow this character with words and descriptions meaningful to programmers. So if you see some words after # in the code, you don't need to concern about these, however, you are suggested to read them since they may be helpful in understanding the code."
   ]
  },
  {
   "cell_type": "code",
   "execution_count": 1,
   "id": "3a286f28",
   "metadata": {},
   "outputs": [
    {
     "name": "stdout",
     "output_type": "stream",
     "text": [
      "I am not a comment\n"
     ]
    }
   ],
   "source": [
    "# This line is a comment\n",
    "# print('I am a comment')\n",
    "print('I am not a comment')"
   ]
  },
  {
   "attachments": {},
   "cell_type": "markdown",
   "id": "c8d28db3",
   "metadata": {},
   "source": []
  }
 ],
 "metadata": {
  "kernelspec": {
   "display_name": "Python 3 (ipykernel)",
   "language": "python",
   "name": "python3"
  },
  "language_info": {
   "codemirror_mode": {
    "name": "ipython",
    "version": 3
   },
   "file_extension": ".py",
   "mimetype": "text/x-python",
   "name": "python",
   "nbconvert_exporter": "python",
   "pygments_lexer": "ipython3",
   "version": "3.9.15"
  }
 },
 "nbformat": 4,
 "nbformat_minor": 5
}
