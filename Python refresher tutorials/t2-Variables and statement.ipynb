{
 "cells": [
  {
   "cell_type": "markdown",
   "id": "978ed7be",
   "metadata": {},
   "source": [
    "## Data structures and variables\n",
    "In this tutorial, we are going to introduce the concept of data structures and variables. A data structure is a way you store data in computer memory, such as a number, a word, or a paragraph. A variable is a value that can change, depending on conditions or on information passed to the program. Using variables to hold data within our code, and show how they can be manipulated to perform whatever task we are intending to do. By the word variables, I mean using names to hold information rather than tapping in numbers as you'd do on a calculator."
   ]
  },
  {
   "cell_type": "markdown",
   "id": "f05560cc",
   "metadata": {},
   "source": [
    "### Data structures\n",
    "There are several built-in core data types in Python, and you can create variable types on your own. Here, we introduce some commonly used built-in variable types.\n",
    "\n",
    "#### Numbers\n",
    "Numbers are fairly straightforward. Python’s core object set includes the usual suspects: integers (numbers without a fractional part), floating-point numbers (roughly, numbers with a decimal point in them), and even more exotic types (unlimited-precision “long” integers, complex numbers with imaginary parts, fixed-precision decimals, and sets). Here, we focus on integers and floating-point numbers. Following are some example numbers supported by Python."
   ]
  },
  {
   "cell_type": "code",
   "execution_count": 2,
   "id": "94496d65",
   "metadata": {},
   "outputs": [
    {
     "data": {
      "text/plain": [
       "123"
      ]
     },
     "execution_count": 2,
     "metadata": {},
     "output_type": "execute_result"
    }
   ],
   "source": [
    "# Example of a integer\n",
    "123"
   ]
  },
  {
   "cell_type": "code",
   "execution_count": 3,
   "id": "da7c24de",
   "metadata": {},
   "outputs": [
    {
     "data": {
      "text/plain": [
       "3.1415926"
      ]
     },
     "execution_count": 3,
     "metadata": {},
     "output_type": "execute_result"
    }
   ],
   "source": [
    "# Example of a float\n",
    "3.1415926"
   ]
  },
  {
   "cell_type": "markdown",
   "id": "6901a8a6",
   "metadata": {},
   "source": [
    "### Logits or boolean\n",
    "Python Boolean type, bool, has two values only, True and False. This data structure is widely used in branched programs. In Python, it behaves like an integer where 1 represents True and 0 represents False."
   ]
  },
  {
   "cell_type": "code",
   "execution_count": 12,
   "id": "7391a29d",
   "metadata": {},
   "outputs": [
    {
     "data": {
      "text/plain": [
       "4"
      ]
     },
     "execution_count": 12,
     "metadata": {},
     "output_type": "execute_result"
    }
   ],
   "source": [
    "True"
   ]
  },
  {
   "cell_type": "code",
   "execution_count": 11,
   "id": "c41acf0c",
   "metadata": {},
   "outputs": [
    {
     "data": {
      "text/plain": [
       "False"
      ]
     },
     "execution_count": 11,
     "metadata": {},
     "output_type": "execute_result"
    }
   ],
   "source": [
    "False"
   ]
  },
  {
   "cell_type": "markdown",
   "id": "398388e6",
   "metadata": {},
   "source": [
    "#### Strings\n",
    "Strings are used to record textual information as well as arbitrary collections of bytes. They are our first example of what we call a sequence in Python—that is, a positionally ordered collection of other objects. Sequences maintain a left-to-right order among the items they contain: their items are stored and fetched by their relative position. Strictly speaking, strings are sequences of one-character strings; other types of sequences include lists and tuples (covered later). Following are some examples of strings."
   ]
  },
  {
   "cell_type": "code",
   "execution_count": null,
   "id": "80aabaa8",
   "metadata": {},
   "outputs": [],
   "source": [
    "# This is a single character string\n",
    "'a'"
   ]
  },
  {
   "cell_type": "code",
   "execution_count": null,
   "id": "1b051dcd",
   "metadata": {},
   "outputs": [],
   "source": [
    "# This is also a string contains multiple characters\n",
    "'abc'"
   ]
  },
  {
   "cell_type": "markdown",
   "id": "5e72ac4c",
   "metadata": {},
   "source": [
    "#### Lists\n",
    "The Python list object is the most general sequence provided by the language. It's very flexible. Lists are positionally ordered collections of arbitrarily typed objects, and they have no fixed size. For example, you can make a list using numbers or strings, or mix them together."
   ]
  },
  {
   "cell_type": "code",
   "execution_count": 4,
   "id": "f018cc46",
   "metadata": {},
   "outputs": [
    {
     "data": {
      "text/plain": [
       "[1, 2, 3]"
      ]
     },
     "execution_count": 4,
     "metadata": {},
     "output_type": "execute_result"
    }
   ],
   "source": [
    "# This is a list contains numbers only\n",
    "[1, 2, 3]"
   ]
  },
  {
   "cell_type": "code",
   "execution_count": null,
   "id": "5b70a5a7",
   "metadata": {},
   "outputs": [],
   "source": [
    "# This is a list contains strings only\n",
    "['a', 'b', 'c']"
   ]
  },
  {
   "cell_type": "code",
   "execution_count": 6,
   "id": "337c8be2",
   "metadata": {},
   "outputs": [
    {
     "data": {
      "text/plain": [
       "[1, 'a', 2, 'b']"
      ]
     },
     "execution_count": 6,
     "metadata": {},
     "output_type": "execute_result"
    }
   ],
   "source": [
    "# This is a list contains numbers and strings\n",
    "[1, 'a', 2, 'b']"
   ]
  },
  {
   "cell_type": "markdown",
   "id": "194859a9",
   "metadata": {},
   "source": [
    "### Variables and assignment of variables.\n",
    "\n",
    "As mentioned before, a variable is a value that can change, depending on conditions or on information passed to the program. Before you use any of the variables, you need to assign some value to it using '='. Following are some examples of variable asignment."
   ]
  },
  {
   "cell_type": "code",
   "execution_count": 8,
   "id": "3e57b835",
   "metadata": {},
   "outputs": [],
   "source": [
    "a = 1\n",
    "b = [1, 2, 3]\n",
    "c = a\n",
    "d = 'abc'"
   ]
  },
  {
   "cell_type": "markdown",
   "id": "21afa65a",
   "metadata": {},
   "source": [
    "In the code above, the left side of the '=' is the variable name. The variable name can be an arbitrary one, in practice, I recommend you name the variable with its actual meaning, so the code can be easier to understand. The right-hand side is the data stored in the variable name. It can be any data structure you want. Take a = 1 as an example, after this assignment, the number 1 is stored in the variable a, and when you call variable a in future programming, it refers to the assigned value. Let's print this:"
   ]
  },
  {
   "cell_type": "code",
   "execution_count": 9,
   "id": "aab9b9da",
   "metadata": {},
   "outputs": [
    {
     "name": "stdout",
     "output_type": "stream",
     "text": [
      "1\n"
     ]
    }
   ],
   "source": [
    "print(a)"
   ]
  },
  {
   "cell_type": "markdown",
   "id": "8263cfbd",
   "metadata": {},
   "source": [
    "Remember the following few points of the variables:\n",
    "\n",
    "• Variables are created when they are first assigned values.\n",
    "\n",
    "• Variables are replaced with their values when used in expressions.\n",
    "\n",
    "• Variables must be assigned before they can be used in expressions.\n",
    "\n",
    "• Variables refer to objects and are never declared ahead of time.\n",
    "\n",
    "Now, let's have a closer look by coding"
   ]
  },
  {
   "cell_type": "code",
   "execution_count": null,
   "id": "37ef430f",
   "metadata": {},
   "outputs": [],
   "source": [
    "a = 1\n",
    "print(a)\n",
    "a = 2           # a is reassigned to 2\n",
    "print(a)\n"
   ]
  },
  {
   "cell_type": "code",
   "execution_count": null,
   "id": "05cde0c2",
   "metadata": {},
   "outputs": [],
   "source": [
    "print(e)        # e is not defined yet, so it will raise an error"
   ]
  },
  {
   "cell_type": "markdown",
   "id": "14bd9c2f",
   "metadata": {},
   "source": [
    "Well done, you have knowledge about the variables and data structures now. You can try to assign some values to different variables and print them to see if they follow your expectation."
   ]
  },
  {
   "cell_type": "code",
   "execution_count": null,
   "id": "77c20b02",
   "metadata": {},
   "outputs": [],
   "source": []
  },
  {
   "cell_type": "markdown",
   "id": "atmospheric-gross",
   "metadata": {},
   "source": [
    "## Operations\n",
    "\n",
    "\n",
    "\n",
    "### arithmetic operations\n",
    "You can use python to do everything that you use a standard calculator for, plus so much more. So let us start with some simple standard operations - adding, subtracting, multiplying and dividing. For these we use +, -, * and / respectively. Have a go at running the snippets of code below to get the hang of it (remember, click on the box so it is highlighted and hit the run button above). Change the numbers and try running again - just remember to start each line flush to the left hand side."
   ]
  },
  {
   "cell_type": "code",
   "execution_count": null,
   "id": "050aadcd",
   "metadata": {},
   "outputs": [],
   "source": [
    "4+3"
   ]
  },
  {
   "cell_type": "code",
   "execution_count": null,
   "id": "0933f116",
   "metadata": {},
   "outputs": [],
   "source": [
    "5-2"
   ]
  },
  {
   "cell_type": "code",
   "execution_count": null,
   "id": "1c9badfd",
   "metadata": {},
   "outputs": [],
   "source": [
    "5*5"
   ]
  },
  {
   "cell_type": "code",
   "execution_count": null,
   "id": "9be9308a",
   "metadata": {},
   "outputs": [],
   "source": [
    "25/3"
   ]
  },
  {
   "cell_type": "markdown",
   "id": "0fe6d418",
   "metadata": {},
   "source": [
    "Also, these operations can be applied to assigned variables."
   ]
  },
  {
   "cell_type": "code",
   "execution_count": 2,
   "id": "4d97fa49",
   "metadata": {},
   "outputs": [
    {
     "name": "stdout",
     "output_type": "stream",
     "text": [
      "7\n",
      "2.5\n",
      "10\n"
     ]
    }
   ],
   "source": [
    "a = 5\n",
    "b = 2\n",
    "\n",
    "print(a + b)\n",
    "print(a / b)\n",
    "c = a * b\n",
    "print(c)"
   ]
  },
  {
   "cell_type": "markdown",
   "id": "1d141b75",
   "metadata": {},
   "source": [
    "Now you have the hang of this, we can do some more involved maths using multiple operations at once. Brackets () can be used in python in the same way that you're used to with pen and paper. Try the lines below to see how it works, change the numbers and then re-run!"
   ]
  },
  {
   "cell_type": "code",
   "execution_count": null,
   "id": "bd2fedd0",
   "metadata": {},
   "outputs": [],
   "source": [
    "2*(4+4)"
   ]
  },
  {
   "cell_type": "code",
   "execution_count": null,
   "id": "f5da08bc",
   "metadata": {},
   "outputs": [],
   "source": [
    "(5+5)/5"
   ]
  },
  {
   "cell_type": "code",
   "execution_count": null,
   "id": "1b9a489a",
   "metadata": {},
   "outputs": [],
   "source": [
    "(5+5)/5 + 2*(4+4)"
   ]
  },
  {
   "cell_type": "markdown",
   "id": "7280c00a",
   "metadata": {},
   "source": [
    "Now it is your turn. If I have 10 bags, each containing 5 red balls and 3 green balls, can you write an expression that includes brackets () to calculate the total number of balls I have?"
   ]
  },
  {
   "cell_type": "code",
   "execution_count": null,
   "id": "3d0ccb5e",
   "metadata": {},
   "outputs": [],
   "source": []
  },
  {
   "cell_type": "markdown",
   "id": "5337d44f",
   "metadata": {},
   "source": [
    "Other important operations include powers, and for this we use ** notation. So, for example, the square of the number 4 is written:"
   ]
  },
  {
   "cell_type": "code",
   "execution_count": null,
   "id": "8831e82c",
   "metadata": {},
   "outputs": [],
   "source": [
    "4**2"
   ]
  },
  {
   "cell_type": "markdown",
   "id": "7a77fdb8",
   "metadata": {},
   "source": [
    "We can use this to calculate square roots - remembering that the root is a power to the half! So the square root of 2 is:"
   ]
  },
  {
   "cell_type": "code",
   "execution_count": null,
   "id": "2fb0e8b2",
   "metadata": {},
   "outputs": [],
   "source": [
    "2**0.5"
   ]
  },
  {
   "cell_type": "markdown",
   "id": "c2e339a9",
   "metadata": {},
   "source": [
    "Your turn! Can you calculate the lengths of the sides of a square with area 10cm^2?"
   ]
  },
  {
   "cell_type": "code",
   "execution_count": null,
   "id": "b7af3a95",
   "metadata": {},
   "outputs": [],
   "source": []
  },
  {
   "cell_type": "markdown",
   "id": "67c7788a",
   "metadata": {},
   "source": [
    "What might happen if you apply arithmetic operator to some other types of variables? For example, a string? The fact is some operators will be reloaded or reused to complete a different function, and some of them will produce an error. For example, if we add to strings, it will concate them."
   ]
  },
  {
   "cell_type": "code",
   "execution_count": 1,
   "id": "e4656171",
   "metadata": {},
   "outputs": [
    {
     "data": {
      "text/plain": [
       "'abcdef'"
      ]
     },
     "execution_count": 1,
     "metadata": {},
     "output_type": "execute_result"
    }
   ],
   "source": [
    "a='abc'\n",
    "b='def'\n",
    "a+b"
   ]
  },
  {
   "cell_type": "markdown",
   "id": "824dceb9",
   "metadata": {},
   "source": [
    "If we multiply a string with another number n, the string will be repeated for n times."
   ]
  },
  {
   "cell_type": "code",
   "execution_count": 2,
   "id": "9ee4fb79",
   "metadata": {},
   "outputs": [
    {
     "data": {
      "text/plain": [
       "'abcabcabc'"
      ]
     },
     "execution_count": 2,
     "metadata": {},
     "output_type": "execute_result"
    }
   ],
   "source": [
    "a='abc'\n",
    "a*3"
   ]
  },
  {
   "cell_type": "markdown",
   "id": "622f8d74",
   "metadata": {},
   "source": [
    "However, if we multiply two strings, it will produce an error. If your code went run in some cases, try to check if you used a correct data structure."
   ]
  },
  {
   "cell_type": "code",
   "execution_count": 3,
   "id": "ee3936e2",
   "metadata": {},
   "outputs": [
    {
     "ename": "TypeError",
     "evalue": "can't multiply sequence by non-int of type 'str'",
     "output_type": "error",
     "traceback": [
      "\u001b[0;31m---------------------------------------------------------------------------\u001b[0m",
      "\u001b[0;31mTypeError\u001b[0m                                 Traceback (most recent call last)",
      "\u001b[0;32m/var/folders/0d/lpbwfkcn1sj44nbvc2djlgvr0000gn/T/ipykernel_10579/2602441853.py\u001b[0m in \u001b[0;36m<module>\u001b[0;34m\u001b[0m\n\u001b[1;32m      1\u001b[0m \u001b[0ma\u001b[0m\u001b[0;34m=\u001b[0m\u001b[0;34m'abc'\u001b[0m\u001b[0;34m\u001b[0m\u001b[0;34m\u001b[0m\u001b[0m\n\u001b[1;32m      2\u001b[0m \u001b[0mb\u001b[0m\u001b[0;34m=\u001b[0m\u001b[0;34m'def'\u001b[0m\u001b[0;34m\u001b[0m\u001b[0;34m\u001b[0m\u001b[0m\n\u001b[0;32m----> 3\u001b[0;31m \u001b[0ma\u001b[0m\u001b[0;34m*\u001b[0m\u001b[0mb\u001b[0m\u001b[0;34m\u001b[0m\u001b[0;34m\u001b[0m\u001b[0m\n\u001b[0m",
      "\u001b[0;31mTypeError\u001b[0m: can't multiply sequence by non-int of type 'str'"
     ]
    }
   ],
   "source": [
    "a='abc'\n",
    "b='def'\n",
    "a*b"
   ]
  },
  {
   "cell_type": "markdown",
   "id": "bebfc309",
   "metadata": {},
   "source": [
    "### Comparison operations\n",
    "\n",
    "There are five commonly used comparison operators: >, <, ==, >=, <=. These operation will return True if the condition is met and False if the condition is not met. Note that when testing if two numbers are equal, you have to use '==' instead of '=' because '=' is an asignment expression."
   ]
  },
  {
   "cell_type": "code",
   "execution_count": 5,
   "id": "3edfdb94",
   "metadata": {},
   "outputs": [
    {
     "data": {
      "text/plain": [
       "True"
      ]
     },
     "execution_count": 5,
     "metadata": {},
     "output_type": "execute_result"
    }
   ],
   "source": [
    "4>=3"
   ]
  },
  {
   "cell_type": "code",
   "execution_count": 6,
   "id": "a3ad8fd1",
   "metadata": {},
   "outputs": [
    {
     "data": {
      "text/plain": [
       "False"
      ]
     },
     "execution_count": 6,
     "metadata": {},
     "output_type": "execute_result"
    }
   ],
   "source": [
    "3>4"
   ]
  },
  {
   "cell_type": "code",
   "execution_count": 7,
   "id": "cad90ded",
   "metadata": {},
   "outputs": [
    {
     "data": {
      "text/plain": [
       "True"
      ]
     },
     "execution_count": 7,
     "metadata": {},
     "output_type": "execute_result"
    }
   ],
   "source": [
    "6==6"
   ]
  },
  {
   "cell_type": "markdown",
   "id": "91df1c1d",
   "metadata": {},
   "source": [
    "Now, have a try. Using Python to determine which number is bigger, 3.14 or 2.72"
   ]
  },
  {
   "cell_type": "code",
   "execution_count": null,
   "id": "d291c2c0",
   "metadata": {},
   "outputs": [],
   "source": []
  },
  {
   "cell_type": "markdown",
   "id": "animated-jewel",
   "metadata": {},
   "source": [
    "To finish off this week, we are going to look at comments and dealing with bugs and errors in our codes.\n",
    "\n",
    "\n",
    "Firstly, code comments are just messages for the code developers to use to explain the purpose of a line or block of code. They can go anywhere inside your code, even following lines of code you want to compute. The comments are started by the # character and you just place your message after this. When python is executed, if there is a #, it will be ignored along with the rest of the line.\n",
    "\n",
    "So for example:\n"
   ]
  },
  {
   "cell_type": "code",
   "execution_count": null,
   "id": "associate-lightning",
   "metadata": {},
   "outputs": [],
   "source": [
    "# this is a comment starting at the beginning of the line\n",
    "# we will calculate the root of a number.\n",
    "my_number = 10 # set up a variable to hold the number you are going to find square root of.\n",
    "root = my_number**0.5  # perform the square root.\n",
    "print('square root of',my_number,'is',root) # printing the answer\n"
   ]
  },
  {
   "cell_type": "markdown",
   "id": "0e53fbf0",
   "metadata": {},
   "source": [
    "You can use a multiline string to make a comment. For example: "
   ]
  },
  {
   "cell_type": "code",
   "execution_count": null,
   "id": "ecc77bb4",
   "metadata": {},
   "outputs": [],
   "source": [
    "''' All contents after this mark are comments\n",
    "All contents here are comments. They won't be executed\n",
    "print('I will print nothing')\n",
    "\n",
    "Many programmers write documents using multiline string to make their code easier to understand.\n",
    "'''"
   ]
  },
  {
   "cell_type": "markdown",
   "id": "arabic-helen",
   "metadata": {},
   "source": [
    "it really is good practice to use comments, particularly for a complicated piece of code. You may write something and not revisit it for months or years, or others may wish to use it later. Comments really help you and others understand what is going on!! SO YOU HAVE BEEN WARNED!!!"
   ]
  },
  {
   "cell_type": "markdown",
   "id": "brave-copying",
   "metadata": {},
   "source": [
    "Finally debugging code errors - THIS IS REALLY IMPORTANT!!!!!\n",
    "\n",
    "I guarantee you will spend the vast majority of your time, particularly when learning coding, debugging errors in your code. YOU WILL I PROMISE YOU! Errors and removing them is part of your learning curve. Sometimes they are difficult to find and can drive you crazy! This part is only conquered with experience, so the more you code the better you will get. SO DO ALL THE EXERCISES I GIVE YOU - AND MORE :)\n",
    "\n",
    "But as a starter, when you write code it is essential to check it produces the correct answer. I very often print to screen many of the executions and check that the code is correct. Very often i do this line by line when possible. So don't write an entire lump of code and then debug. Do it slowly or it will get messy!!!\n",
    "\n",
    "Anyway, for a practice can you correct the bit of code below where I am trying to find the cube root of a number."
   ]
  },
  {
   "cell_type": "code",
   "execution_count": null,
   "id": "reflected-dimension",
   "metadata": {},
   "outputs": [],
   "source": [
    "# this is a comment starting\n",
    "# we will calculate the cube root of a number.\n",
    "my_number = 10 # set up a variable to hold the number you are going to find the cube root of.\n",
    "root = my_number**3  # perform the cube root\n",
    "print('cube root of ',my_number,' is ',root) # printing the answer"
   ]
  },
  {
   "cell_type": "markdown",
   "id": "artificial-basketball",
   "metadata": {},
   "source": [
    "Finally, when coding, you may/will make errors that make no sense to python. In this case python is really good at telling you where you went wrong. Python will stop and tell you the line where it hit a problem and give you information about the problem.\n",
    "\n",
    "So for example, remember I said don't indent your code: look at what happens when you do this. Indentation is a way of telling a Python interpreter that the group of statements belongs to a particular block of code. It useful in if statements, loops and definations, we will introduce this later and don't indent casually for now. If you run the code python crashes and tells you it's an indent error on the second line!! Very helpful!!! :)\n"
   ]
  },
  {
   "cell_type": "code",
   "execution_count": null,
   "id": "selective-picture",
   "metadata": {},
   "outputs": [],
   "source": [
    "print('i will show you a typical error')\n",
    "  print('look when i did not start at the beginning of the line!') # run the code and see what happens.\n"
   ]
  },
  {
   "cell_type": "markdown",
   "id": "informal-attempt",
   "metadata": {},
   "source": [
    "Run the code above and then fix it. Now practice on the code below, calculating the surface area of a sphere with radius r. Note: Area = 4*pi*r^2 (there are 5 errors!!)\n"
   ]
  },
  {
   "cell_type": "code",
   "execution_count": null,
   "id": "precise-entrance",
   "metadata": {},
   "outputs": [],
   "source": [
    "# some code to calculate the aread of a sphere.\n",
    "radius = 1.0 # define the radius\n",
    " pi = 3.141592 # define pi\n",
    "area = 4*pi*r**3   calculate the surface area\n",
    "print('Area =', Area)"
   ]
  },
  {
   "cell_type": "code",
   "execution_count": null,
   "id": "fc0982c7",
   "metadata": {},
   "outputs": [],
   "source": []
  }
 ],
 "metadata": {
  "kernelspec": {
   "display_name": "Python 3 (ipykernel)",
   "language": "python",
   "name": "python3"
  },
  "language_info": {
   "codemirror_mode": {
    "name": "ipython",
    "version": 3
   },
   "file_extension": ".py",
   "mimetype": "text/x-python",
   "name": "python",
   "nbconvert_exporter": "python",
   "pygments_lexer": "ipython3",
   "version": "3.9.15"
  }
 },
 "nbformat": 4,
 "nbformat_minor": 5
}
