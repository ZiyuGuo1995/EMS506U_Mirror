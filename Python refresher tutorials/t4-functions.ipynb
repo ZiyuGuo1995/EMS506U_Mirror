{
 "cells": [
  {
   "cell_type": "markdown",
   "id": "9157a90f",
   "metadata": {},
   "source": [
    " In this tutorial, we are going to learn function calls. Like with loops and if statements, function calls are essential for the efficient coding of all languages including Python.\n",
    "\n",
    "A function is simply a self-contained snipped code that performs some operation. If your programme requires the repeated execution of the same operations, it is best to wrap this up within a function, and then your programme just calls it in a single line, that is, you don't have to repeat the same lines of codes again and again.\n",
    "\n",
    "To show you how it works it is easiest to show you by example, here we will create a function called \"print_hi\" that prints \"hello world\" to the screen. Run the code below and we will then go through the lines."
   ]
  },
  {
   "cell_type": "code",
   "execution_count": null,
   "id": "cc40727d",
   "metadata": {},
   "outputs": [],
   "source": [
    "# this will create the function to print hello world\n",
    "def print_hi():\n",
    "  print('hello world')\n",
    "\n",
    "# now this is the main part of the code that calls the function - so we go back to the left hand side.\n",
    "print_hi()"
   ]
  },
  {
   "cell_type": "markdown",
   "id": "af02cf4b",
   "metadata": {},
   "source": [
    "This programme begins by defining the function. This starts with the \"def\" word that initiates the definition of the function, we then give the function a name, \"print_hi\" in this case, followed by the (): . I will come back to this () shortly when we want to pass information to the function to process.\n",
    "\n",
    "After the function initialisation, we put the commands that we wish to execute. So the question is, when we have inserted our commands, how does Python know when the function call is finished? Well, again, python uses code indentation to do this. You will see that our print statement for \"hello world\" is indented following the function definition line. All lines within the function will need to have the same indentation (and of course if there are \"if\" and \"loops\" then these will be further indented). And when you have finished your function definition you go back to the original position at the start of the line. It is this that tells Python the definition of the function is complete.\n",
    "\n",
    "So you will see in line 6 there is the statement that calls the function we have just created. You just call the name of the function with the(), that is it!\n",
    "\n",
    "The whole purpose of this is that you can now call the function time and time again, for example, run the code below:"
   ]
  },
  {
   "cell_type": "code",
   "execution_count": null,
   "id": "40f356ee",
   "metadata": {},
   "outputs": [],
   "source": [
    "# this will create the function\n",
    "\n",
    "def print_hi():\n",
    "  print('hello world')\n",
    "\n",
    "# now this is the main part of the code that calls the function\n",
    "print_hi()\n",
    "print_hi()\n",
    "print_hi()"
   ]
  },
  {
   "cell_type": "markdown",
   "id": "df6bd1ee",
   "metadata": {},
   "source": [
    "and you will see it printed to screen 3 times, or you could write the call within a loop to print an arbitrary number of times:"
   ]
  },
  {
   "cell_type": "code",
   "execution_count": null,
   "id": "503ad71a",
   "metadata": {},
   "outputs": [],
   "source": [
    "# this will create the function\n",
    "def print_hi():\n",
    "  print('hello world')\n",
    "\n",
    "# now this is the main part of the code that calls the function\n",
    "for i in range(10):\n",
    "   print_hi()"
   ]
  },
  {
   "cell_type": "markdown",
   "id": "3db5d17c",
   "metadata": {},
   "source": [
    "Now there is something to note here, you will see that the definition of the function happens before the line that calls it. This is really important to note because if you put it after, then it wont work. This is because python effectively sees the code when you run it, and it will read through your code from the top to bottom. Therefore, before it sees the call for \"print_hi()\" it needs to know what to do. So by putting the function definition at the top, python will have seen it already and will know what to do when it is called in a later line!!\n",
    "\n",
    "\n",
    "\n",
    "So let's now do something a little more interesting. Let's define a function to which you send a number and it prints the squared value of it. To do this, we need to send the function that number we wish to square, and this is where the brackets () come into play. Again, let's run the code and then see how it works after, so run the following:\n"
   ]
  },
  {
   "cell_type": "code",
   "execution_count": null,
   "id": "c0f7d460",
   "metadata": {},
   "outputs": [],
   "source": [
    "# define the function to calculate and print the square of a number\n",
    "def calculate_square(number):\n",
    "   number_squared = number**2\n",
    "   print('the square of ',number,' is ',number_squared)\n",
    "\n",
    "# call the function\n",
    "calculate_square(5)"
   ]
  },
  {
   "cell_type": "markdown",
   "id": "31b7b223",
   "metadata": {},
   "source": [
    "Now look at the defnition line of the function which we have now called \"calculate_square\". You will see we have included a variable with the name \"number\" in the brackets. This function now expects you to pass something to it, in this case a single number, and it will hold the value within the variable named \"number\". Inside the function you can manipulate this number as you wish. Here you will see that the function creates a second variable that is assigned the square value of \"number\", and then there is a print statement that prints the squared value to screen. Note both lines have the same indentation as both are part of the function call!!!!!!\n",
    "\n",
    "Now when you call the function in the final line of the script you will see there is a numerical value inside the (). This is the number that is sent to the function, and whilst 5 in this example, it can be any numeric value.\n",
    "\n",
    "We can also pass a variable through if it holds some numerical value. Have a look here where where we define a loop where the variable \"my_number\" loops through the first 10 integers.\n",
    "\n"
   ]
  },
  {
   "cell_type": "code",
   "execution_count": null,
   "id": "281dac87",
   "metadata": {},
   "outputs": [],
   "source": [
    "# define the function to calculate and print the square of a number\n",
    "def calculate_square(number):\n",
    "   number_squared = number**2\n",
    "   print('the square of ',number,' is ',number_squared)\n",
    "\n",
    "# call the function within a loop\n",
    "for my_number in range(10):\n",
    "   calculate_square(my_number)"
   ]
  },
  {
   "cell_type": "markdown",
   "id": "078ab8c9",
   "metadata": {},
   "source": [
    "So now it is your turn can you generate a script that uses a function to calculate and print the cubed value of a number, and to then have a loop that calls this for the first 20 numbers. This is Q1 of your questions."
   ]
  },
  {
   "cell_type": "markdown",
   "id": "3a441c54",
   "metadata": {},
   "source": [
    "Next we are going to see how a function can be used to perform an operation and to then return something back to the part of the code that called it. THIS IS EXTREMELY IMPORTANT TO YOUR WORK! I will use the squared function example above, but rather than just print the number we will return the number back. To do this look at the adaptation of the code:\n"
   ]
  },
  {
   "cell_type": "code",
   "execution_count": null,
   "id": "dea5ecd3",
   "metadata": {},
   "outputs": [],
   "source": [
    "# define the function to calculate and print the square of a number\n",
    "def calculate_square(number):\n",
    "   number_squared = number**2\n",
    "   return number_squared\n",
    "\n",
    "# call the function\n",
    "n =10\n",
    "n_squared = calculate_square(n)\n",
    "print('the number ',n,'  squared is ',n_squared)"
   ]
  },
  {
   "cell_type": "markdown",
   "id": "9c9760c3",
   "metadata": {},
   "source": [
    "To return the squared value back from the function, you need to use the \"return\" statement at the end of the function definitions. Here we want to return the value of the variable \"number_squared\", so the line \"return number_squared\" tells python to return that variable's value back. You will also see that when the function is called, you have a  \"n_squared =\" before the function call. The \"n_squared\" (which can be any name) will become a variable, and it will be assigned the value that is returned by the function. This should be clear when the final print statement prints the values to screen."
   ]
  },
  {
   "cell_type": "markdown",
   "id": "9c27bb41",
   "metadata": {},
   "source": [
    "Continuing on with the sending/returning of values from functions, multiple variables can be sent and returned. Showing by example this should become clear, let's send in 3 variables with integer values and add them together, and send the sum back:\n",
    "\n"
   ]
  },
  {
   "cell_type": "code",
   "execution_count": null,
   "id": "aca092b6",
   "metadata": {},
   "outputs": [],
   "source": [
    "# function to add 3 numbers.\n",
    "def sum_numbers(a,b,c):\n",
    "    total = a+b+c\n",
    "    return total\n",
    "# set up some numbers and call the function\n",
    "a=1\n",
    "b=6\n",
    "c=4\n",
    "my_value = sum_numbers(a,b,c)\n",
    "print('sum = ',my_value)\n"
   ]
  },
  {
   "cell_type": "markdown",
   "id": "d0823805",
   "metadata": {},
   "source": [
    "Now let's define a function that swaps the values of two variables.\n"
   ]
  },
  {
   "cell_type": "code",
   "execution_count": null,
   "id": "b2b1724e",
   "metadata": {},
   "outputs": [],
   "source": [
    "# set up the function to swap two numbers around\n",
    "def swap_values(a,b):\n",
    "    # just return the values in revers order!\n",
    "    return b,a\n",
    "# set up the numbers to swap.\n",
    "a = 5\n",
    "b = 7\n",
    "print('before the call, a and b are: ',a,b)\n",
    "a,b = swap_values(a,b)\n",
    "print('after the call, a and b are: ',a,b)\n"
   ]
  },
  {
   "cell_type": "markdown",
   "id": "de63488a",
   "metadata": {},
   "source": [
    "You will see that the function \"swap_values\" reads in two variables in the a,b, but then immediately returns them back in the other order b,a.\n",
    "the function call sends in a,b, but also overwrites them when returned"
   ]
  },
  {
   "cell_type": "code",
   "execution_count": null,
   "id": "0cf085ff",
   "metadata": {},
   "outputs": [],
   "source": []
  },
  {
   "cell_type": "markdown",
   "id": "e15a1d56",
   "metadata": {},
   "source": [
    "Another way to define a function is a lambda expression. This can reduce the amount of code you need to write, and is quite useful when defining some 'small' functions."
   ]
  },
  {
   "cell_type": "code",
   "execution_count": 1,
   "id": "5f61094e",
   "metadata": {},
   "outputs": [
    {
     "data": {
      "text/plain": [
       "6"
      ]
     },
     "execution_count": 1,
     "metadata": {},
     "output_type": "execute_result"
    }
   ],
   "source": [
    "sum_numbers=lambda a,b,c:a+b+c\n",
    "sum_numbers(1,2,3)"
   ]
  },
  {
   "cell_type": "markdown",
   "id": "8096506c",
   "metadata": {},
   "source": [
    "This defination is same as the following def expression:"
   ]
  },
  {
   "cell_type": "code",
   "execution_count": null,
   "id": "54a24ce7",
   "metadata": {},
   "outputs": [],
   "source": [
    "def sum_numbers(a,b,c):\n",
    "    return a+b+c"
   ]
  }
 ],
 "metadata": {
  "kernelspec": {
   "display_name": "Python 3 (ipykernel)",
   "language": "python",
   "name": "python3"
  },
  "language_info": {
   "codemirror_mode": {
    "name": "ipython",
    "version": 3
   },
   "file_extension": ".py",
   "mimetype": "text/x-python",
   "name": "python",
   "nbconvert_exporter": "python",
   "pygments_lexer": "ipython3",
   "version": "3.9.15"
  }
 },
 "nbformat": 4,
 "nbformat_minor": 5
}
