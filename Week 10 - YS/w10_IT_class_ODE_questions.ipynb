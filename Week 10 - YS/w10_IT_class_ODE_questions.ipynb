{
 "cells": [
  {
   "cell_type": "markdown",
   "metadata": {},
   "source": [
    "# Week 10 IT Class Ordinary Differential Equations"
   ]
  },
  {
   "cell_type": "markdown",
   "metadata": {},
   "source": [
    "## Question 1"
   ]
  },
  {
   "cell_type": "markdown",
   "metadata": {},
   "source": [
    "We have the ODE:\n",
    "\n",
    "$$\\frac{dy}{dt} = y$$\n",
    "\n",
    "subject to the initial condition $y(0) = 1$.\n",
    "\n",
    "(a)\tFind the particular solution of $y(t)$, and calculate $y(1)$.\n",
    "\n",
    "(b)\tUsing Euler’s method and Python to calculate $y(1)$, with different time steps $h$ = 0.2, 0.05, 0.01 and 0.002.\n",
    "\n",
    "(c)\tCompare the results from the two methods, plot the difference between the exact value and the Euler approximation as a function of the time step $h$."
   ]
  },
  {
   "cell_type": "markdown",
   "metadata": {},
   "source": [
    "## Answer:\n",
    "<b>(a)</b> we use the method of seperation of variables:\n",
    "\n",
    "\n",
    "$$\\frac{dy}{y} = dt.$$\n",
    "\n",
    "integrate both sides\n",
    "\n",
    "$$\\int \\frac{dy}{y} = \\int dt,$$\n",
    "\n",
    "we have\n",
    "\n",
    "$$ln(y) = t+C,$$\n",
    "\n",
    "$$y = Ce^{t}.$$\n",
    "\n",
    "Apply initial condition $y(0)=1$, we have $$ C =1 $$, then the particlar solution is:\n",
    " \n",
    "$$y = e^{t},$$\n",
    "\n",
    "and $y(1) = e$"
   ]
  },
  {
   "cell_type": "markdown",
   "metadata": {},
   "source": [
    "<b>(b)</b> Fill the code section below. \n",
    "\n",
    "The iteration formula for the Euler's method can be written as:\n",
    "$$y_{n+1} = y_{n}+h*f(t_n,y_n),$$\n",
    "where $y_{n}$ and $y_{n+1}$ represent the values of $y$ at the current and the next time step, respectively. For the present problem, $f(t_n,y_n)=y_n$."
   ]
  },
  {
   "cell_type": "code",
   "execution_count": 7,
   "metadata": {},
   "outputs": [
    {
     "name": "stdout",
     "output_type": "stream",
     "text": [
      "Using the Euler's method with h = 0.2 , y(1) = 2.48832\n",
      "The difference between the numerical and analytical solutions is 0.22996182799999998\n"
     ]
    }
   ],
   "source": [
    "import numpy as np\n",
    "import math\n",
    "## Defination of parameters\n",
    "h = 0.2                  # You can change h here, h=0.2,0.05,0.01,0.002\n",
    "nsteps = math.floor(1/h)  # Number of iterations for t=1 with the time step h\n",
    "f = lambda t,y : y          # Defination of the function f(t,y)=y\n",
    "y = 1                     # Initial value. y(t=0)=1.\n",
    "t = 0                     # start from t=0\n",
    "\n",
    "##Complete the Euler iteration loops below\n",
    "for i in range(nsteps):\n",
    "    y=y+h*f(t,y)\n",
    "    t=t+h\n",
    "\n",
    "\n",
    "\n",
    "print('Using the Euler\\'s method with h =', h, ', y(1) =', y)\n",
    "\n",
    "e = 2.718281828           # Euler's number. Analytical solution of y(1).\n",
    "diff = abs(y - e)           # Error of the numerical solution.\n",
    "print('The difference between the numerical and analytical solutions is', diff)\n"
   ]
  },
  {
   "cell_type": "markdown",
   "metadata": {},
   "source": [
    "<b>(c)</b> Fill the two arrays <b>hs</b> and <b>diffs</b> in the code sectiin below using the result from previous section."
   ]
  },
  {
   "cell_type": "code",
   "execution_count": 8,
   "metadata": {},
   "outputs": [
    {
     "data": {
      "image/png": "[encoded data removed]",
      "text/plain": [
       "<Figure size 432x288 with 1 Axes>"
      ]
     },
     "metadata": {
      "needs_background": "light"
     },
     "output_type": "display_data"
    }
   ],
   "source": [
    "import matplotlib.pyplot as plt\n",
    "\n",
    "# Please calculate difference between analytical solution and nuemrical solution using previous code section.\n",
    "hs = [0.002,0.01,0.05,0.2]          #h values\n",
    "diffs = [0.0027133073,0.0134679986,0.064984123,0.2299618280]       #Difference between numerical and analytical solution\n",
    "\n",
    "# Plot time step vs error in dual log scale.\n",
    "plt.plot(hs,diffs,'--o')\n",
    "plt.xlabel('h')\n",
    "plt.ylabel('diff')\n",
    "plt.xscale('log')\n",
    "plt.yscale('log')\n",
    "plt.axis('equal')\n",
    "plt.grid()\n",
    "plt.show()"
   ]
  },
  {
   "cell_type": "markdown",
   "metadata": {},
   "source": [
    "## Question 2"
   ]
  },
  {
   "cell_type": "markdown",
   "metadata": {},
   "source": [
    "Use the Euler’s method and Python programming to calculate the temperature of an object that follows the Newton’s cooling law:\n",
    "\n",
    "$$\\frac{dT}{dt} = -k(T-T_{s}).$$\n",
    "\n",
    "The initial temperature of the object is $100^{\\circ}C$ at $t = 0$, and the environment temperature $T_{s} = 20^{\\circ}C$. The constant $k = 1  (1/s)$. \n",
    "\n",
    "(a)\tFind the particular solution of $T(t)$, and calculate $T(1)$.\n",
    "\n",
    "(b)\tUse Euler’s method and Python to calculate $T(1)$, with different time steps $h =$ 0.2, 0.1, 0.02, 0.002.\n",
    "\n",
    "(c)\tCompare the results from the two methods, plot the difference between the exact value and the Euler approximation as a function of the time step $h$.\n",
    "\n",
    "(d)\tPlot the time evolutions of the temperature till $t = 2s$, with $h=$0.2, 0.1 and 0.02, and compare the results with the analytical solution in the same figure.\n"
   ]
  },
  {
   "cell_type": "markdown",
   "metadata": {},
   "source": [
    "## Answer:\n",
    "<b>(a)</b> Write analytical solution yourself."
   ]
  },
  {
   "cell_type": "markdown",
   "metadata": {},
   "source": [
    "<b> (b) </b> Refering the code in Question 1, please write a Python code to solve the ODE below:"
   ]
  },
  {
   "cell_type": "code",
   "execution_count": null,
   "metadata": {},
   "outputs": [],
   "source": [
    "### Your code here ###\n",
    "\n",
    "\n",
    "\n",
    "\n",
    "\n",
    "\n",
    "\n"
   ]
  },
  {
   "cell_type": "markdown",
   "metadata": {},
   "source": [
    "<b> (c) </b> Following the same style as Question 1, Fill and plot the h vs difference:"
   ]
  },
  {
   "cell_type": "code",
   "execution_count": null,
   "metadata": {},
   "outputs": [],
   "source": [
    "### Your code here ###\n",
    "\n",
    "\n",
    "\n",
    "\n",
    "\n",
    "\n",
    "\n"
   ]
  },
  {
   "cell_type": "markdown",
   "metadata": {},
   "source": [
    "<b>(d)</b> In order to plot the time evolution of temperature, we need an array to store the intantaneous temperature at every time step. Please fill the code sections below:"
   ]
  },
  {
   "cell_type": "code",
   "execution_count": null,
   "metadata": {},
   "outputs": [],
   "source": [
    "h = 0.02\n",
    "nsteps = math.floor(2/h)          # Number of iterations, 2s.\n",
    "t_a = np.zeros(nsteps+1)\n",
    "T_a = np.zeros(nsteps+1)\n",
    "t_a[0] = 0                        # Initial value. T(t = 0) = 100.\n",
    "T_a[0] = 100                      # We create array here to store all time evolution history.\n",
    "for i in range(nsteps):\n",
    "    t_a[i+1] = t_a[i] + h\n",
    "    T_a[i+1] = 80 * math.exp(-t_a[i+1]) + 20       # Euler iteration step, array implementation. yn+1=yn+h*f(yn,tn).\n",
    "\n",
    "## Using Euler's method to calculate y(1) at h=0.02    \n",
    "h = 0.02\n",
    "nsteps = math.floor(2/h)          # Number of iterations, 2s.\n",
    "t_02 = np.zeros(nsteps+1)\n",
    "T_02 = np.zeros(nsteps+1)\n",
    "t_02[0] = 0\n",
    "T_02[0] = 100\n",
    "\n",
    "#Please filling the Euler's iteration loop below:\n",
    "for i in range(nsteps):\n",
    "    ### Put your code Here ###\n",
    "    \n",
    "    \n",
    "    \n",
    "    \n",
    "    \n",
    "    \n",
    "    \n",
    "    \n",
    "\n",
    "\n",
    "#Using the same code style, you can calculate t and T at different h.\n",
    "### Put your code Here ###\n",
    "\n",
    "\n",
    "\n",
    "\n",
    "\n",
    "\n",
    "\n",
    "\n",
    "\n",
    "## Plot the result. Note: If the variable name is different, you may need to change variable names below.\n",
    "plt.plot(t_a,T_a,label='Exact solution')\n",
    "plt.plot(t_2,T_2,'--',label='Numerical solution h=0.2')\n",
    "plt.plot(t_1,T_1,'--',label='Numerical solution h=0.1')\n",
    "plt.plot(t_02,T_02,'--',label='Numerical solution h=0.02')\n",
    "plt.title('Comparison of exact and numerical solutions')\n",
    "plt.xlabel('t')\n",
    "plt.ylabel('T(t)')\n",
    "plt.grid()\n",
    "plt.legend()\n",
    "plt.show()\n"
   ]
  },
  {
   "cell_type": "markdown",
   "metadata": {},
   "source": [
    "#### Question 2 Extension:\n",
    "<b>This is an optional part.</b> Please complete a function to solve ODE using Euler's method. We will redo the Question 2 by calling that function."
   ]
  },
  {
   "cell_type": "code",
   "execution_count": null,
   "metadata": {},
   "outputs": [],
   "source": [
    "def euler(f, x0, y0, xf, h):\n",
    "    \"\"\"\n",
    "    Solve an ODE using the Euler's method.\n",
    "    \n",
    "    Parameters\n",
    "    ----------\n",
    "    f : function\n",
    "        The right-hand side of the ODE, i.e., dy/dx = f(x, y).\n",
    "    x0 : float\n",
    "        The initial value of the independent variable.\n",
    "    y0 : float\n",
    "        The initial value of the dependent variable.\n",
    "    xf : float\n",
    "        The final value of the independent variable.\n",
    "    h : float\n",
    "        The step size.\n",
    "    \n",
    "    Returns\n",
    "    -------\n",
    "    x : list or array\n",
    "        The values of the independent variable.\n",
    "    y : list or array\n",
    "        The values of the dependent variable.\n",
    "    \"\"\"\n",
    "    # Initialize x, y to store the solution, and calculate the number of iteration required.\n",
    "    # And loop over the desired range of the independent variable\n",
    "    \n",
    "    ### Put your code here ###\n",
    "    \n",
    "    \n",
    "    \n",
    "    \n",
    "    \n",
    "    \n",
    "    \n",
    "    \n",
    "    \n",
    "    \n",
    "\n",
    "    return x, y\n"
   ]
  },
  {
   "cell_type": "markdown",
   "metadata": {},
   "source": [
    "Now we test the function you just wrote by redoing Question 2.\n",
    "<b>(b)</b>"
   ]
  },
  {
   "cell_type": "code",
   "execution_count": null,
   "metadata": {},
   "outputs": [],
   "source": [
    "f = lambda t,T : -(T - 20)\n",
    "\n",
    "# Compare value of T(1) under different h\n",
    "t,T = euler(f, 0, 100, 1, 0.2)\n",
    "print(f'The value of T(1) at step h=0.2 is {T[-1]}. Analytical solution is 49.43. Difference is {abs(T[-1]-49.43)}')\n",
    "t,T = euler(f, 0, 100, 1, 0.1)\n",
    "print(f'The value of T(1) at step h=0.1 is {T[-1]}. Analytical solution is 49.43. Difference is {abs(T[-1]-49.43)}')\n",
    "t,T = euler(f, 0, 100, 1, 0.02)\n",
    "print(f'The value of T(1) at step h=0.04 is {T[-1]}. Analytical solution is 49.43. Difference is {abs(T[-1]-49.43)}')"
   ]
  },
  {
   "cell_type": "markdown",
   "metadata": {},
   "source": [
    "<b>(c)</b>"
   ]
  },
  {
   "cell_type": "code",
   "execution_count": null,
   "metadata": {},
   "outputs": [],
   "source": [
    "# Plot exact value and Euler approximation\n",
    "hs = [0.002,0.02,0.1,0.2]\n",
    "diffs = []\n",
    "for h in hs:\n",
    "    t,T = euler(f,0,100,1,h)\n",
    "    diffs.append(abs(T[-1] - 80 * math.exp(-1) - 20))\n",
    "plt.plot(hs,diffs,'--o')\n",
    "plt.xlabel('h')\n",
    "plt.ylabel('Diff')\n",
    "plt.xscale('log')\n",
    "plt.yscale('log')\n",
    "plt.axis('equal')\n",
    "plt.grid()\n",
    "plt.show()"
   ]
  },
  {
   "cell_type": "markdown",
   "metadata": {},
   "source": [
    "<b>(d)</b>"
   ]
  },
  {
   "cell_type": "code",
   "execution_count": null,
   "metadata": {},
   "outputs": [],
   "source": [
    "# Calculate T(2) under different h\n",
    "t = np.arange(0,2.01,0.01)\n",
    "y = np.array([80*math.exp(-i)+20 for i in t])\n",
    "plt.plot(t,y,label='Exact solution')\n",
    "plt.title('Approximation and Exact solution of Newton\\'s cooling law')\n",
    "plt.xlabel('t')\n",
    "plt.ylabel('f(t)')\n",
    "plt.grid()\n",
    "hs = [0.2,0.1,0.01]\n",
    "\n",
    "for h in hs:\n",
    "    t,T = euler(f,0,100,2,h)\n",
    "    print(f'Nuemrical value of T(4)at step h={h} is {T[-1]}. Analytical solution is {80*math.exp(-2)+20}. Difference is {abs(80*math.exp(-2)+20-T[-1])}')\n",
    "    plt.plot(t,T,'--',label=f'Approximate h={h}')\n",
    "\n",
    "plt.legend(loc='upper right')\n",
    "plt.show()"
   ]
  }
 ],
 "metadata": {
  "kernelspec": {
   "display_name": "Python 3 (ipykernel)",
   "language": "python",
   "name": "python3"
  },
  "language_info": {
   "codemirror_mode": {
    "name": "ipython",
    "version": 3
   },
   "file_extension": ".py",
   "mimetype": "text/x-python",
   "name": "python",
   "nbconvert_exporter": "python",
   "pygments_lexer": "ipython3",
   "version": "3.9.13"
  },
  "vscode": {
   "interpreter": {
    "hash": "610c699f0cd8c4f129acd9140687fff6866bed0eb8e82f249fc8848b827b628c"
   }
  }
 },
 "nbformat": 4,
 "nbformat_minor": 2
}
